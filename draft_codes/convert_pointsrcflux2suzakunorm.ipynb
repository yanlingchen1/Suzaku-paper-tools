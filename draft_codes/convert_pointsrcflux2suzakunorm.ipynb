{
 "cells": [
  {
   "cell_type": "code",
   "execution_count": 10,
   "metadata": {},
   "outputs": [
    {
     "data": {
      "text/plain": [
       "0.0015048179471970277"
      ]
     },
     "execution_count": 10,
     "metadata": {},
     "output_type": "execute_result"
    }
   ],
   "source": [
    "import numpy as np\n",
    "from astropy.io import fits\n",
    "def suzaku_norm(flux, area):\n",
    "    return flux/area*400*3.14/5.243e-9\n",
    "# suzaku_norm((67.88+35.06+67.88+153.01)*1e-15,7.23+6.28+7.23+40.03) 222_4_5\n",
    "suzaku_norm((99.18+83.47+36.95)*1e-15, 15.75+13.84+5.89)"
   ]
  },
  {
   "cell_type": "markdown",
   "metadata": {},
   "source": [
    "convert norm to em"
   ]
  },
  {
   "cell_type": "code",
   "execution_count": 1,
   "metadata": {},
   "outputs": [
    {
     "data": {
      "text/plain": [
       "[(1.3733414090725391e+65, 1.1086008964802424e+64),\n",
       " (7.398551825124005e+64, 1.1015096327500916e+64),\n",
       " (1.9240962254475848e+65, 1.2007873249722029e+64)]"
      ]
     },
     "execution_count": 1,
     "metadata": {},
     "output_type": "execute_result"
    }
   ],
   "source": [
    "\n",
    "import numpy as np\n",
    "# 230316\n",
    "# norm = 5.24274E-03 \n",
    "# normerr = 7.20886E-04\n",
    "# d_ang = 3.427 #kpc/arcsec at z=0.21\n",
    "# kpc2cm = 3.08568e21\n",
    "# area = 1.6**2*np.pi #arcmin2\n",
    "\n",
    "# 230327\n",
    "area = 3.5*4.5 #arcmin2\n",
    "kpc2cm = 3.08568e21\n",
    "dens = [5.81e-3, 3.13e-3, 8.14e-3]\n",
    "dens_err = [4.69e-4, 4.66e-4, 5.08e-4]\n",
    "d_ang = 3.427 #kpc/arcsec at z=0.21\n",
    "\n",
    "def norm2em(norm, normerr):\n",
    "    const = 1e-14/4/np.pi/(d_ang*20*60*kpc2cm*(1+0.21))**2/400/np.pi*area\n",
    "    return norm/const, normerr/const\n",
    "[norm2em(norm, normerr) for norm, normerr in zip(dens, dens_err)]"
   ]
  },
  {
   "cell_type": "markdown",
   "metadata": {},
   "source": [
    "from srcflux file read src fluxes"
   ]
  },
  {
   "cell_type": "code",
   "execution_count": null,
   "metadata": {},
   "outputs": [],
   "source": [
    "# plot chandra cxc pointsrc from srcflux\n",
    "workpath = '/Users/eusracenorth/Documents/suzaku_A222-223/chandra/data/wavdetect'\n",
    "file = open(f'{workpath}/srcflux_summary_idx14.txt')\n",
    "# 0.5-7keV to 2-8keV\n",
    "flux = []\n",
    "dat = file.readlines()\n",
    "file.close()\n",
    "f, flo, fhi = [],[],[]\n",
    "cts = 0\n",
    "for line in dat:\n",
    "    if 'Unabs Mod.Flux ' in line:\n",
    "        string = line.split('Flux ')[-1].split('erg')[0].replace(\" \",\"\")\n",
    "        errstr = line.split('(')[-1]\n",
    "        flo.append(float(errstr.split(',')[0]))\n",
    "        fhi.append(float(errstr.split(',')[-1].split(')')[0]))\n",
    "        if 'E' in string:\n",
    "            f.append(float(string))\n",
    "        else:\n",
    "            f.append(np.nan)\n",
    "\n",
    "flo = np.array(flo)\n",
    "fhi = np.array(fhi)\n",
    "f = np.array(f)\n",
    "flo[~np.isfinite(f)] = 0\n",
    "fhi[~np.isfinite(f)] = 0\n",
    "f[~np.isfinite(f)] = 0\n",
    "\n",
    "print(f,fhi,flo)\n",
    "print(np.sum(fhi>1e-14))"
   ]
  },
  {
   "cell_type": "code",
   "execution_count": null,
   "metadata": {},
   "outputs": [],
   "source": [
    "regions = ['A222_1','A222_2','A222_3','A222_4a','A222_4b','A222_5a', 'A222_5b', \n",
    "    'A223_1','A223_2','A223_3','A223_4b','A223_5a', 'A223_5b', 'bkg', 'werner']\n",
    "areas = {'A222_1':1*3.14,'A222_2':(2.5**2-1)*3.14,'A222_3':(3.5**2-2.5**2)*3.14,'A222_4a':(5**2-3.5**2)*3.14,\n",
    "'A222_4b':(5**2-3.5**2)*3.14*65/360,'A222_5a':(7**2-5**2)*3.14*30/360, 'A222_5b':(7**2-5**2)*3.14*30/360, \n",
    "'A223_1':1*3.14,'A223_2':(2**2-1)*3.14*300/360,'A223_3':(3**2-2**2)*3.14*300/360,\n",
    "'A223_4b':(5.5**2-3**2)*3.14*85/360,'A223_5a':(8**2-5.5**2)*3.14*47/360, 'A223_5b':(8**2-5.5**2)*3.14*20/360, 'bkg': 2**2*3.14, 'werner': 1.6**2*3.14}\n",
    "src_idxes = {'A222_1':[14],'A222_2':[5,6,93],'A222_3':[3,4,96,84,16],\n",
    "    'A222_4a':[11],'A222_4b':'none','A222_5a':[12,13], 'A222_5b':[23,25,28,31], \n",
    "    'A223_1':[64],'A223_2':[59,71],'A223_3':[69,51,42,43,44,58],'A223_4b':[79,73,72,74,78,61,53],'A223_5a':'none', 'A223_5b':[62,49], 'bkg':[7], 'werner':[26, 20, ]}\n",
    "half_src_idxes = {'A223_4b':[66],'A222_1':[5,6,96],'A222_5a':[19,8], 'A222_4a':[4], 'A222_2':[5,6,96,4], 'A222_3':[4], 'bkg':[8], }"
   ]
  },
  {
   "cell_type": "code",
   "execution_count": null,
   "metadata": {},
   "outputs": [],
   "source": [
    "def suzaku_norm(flux, area):\n",
    "    return flux/area*400*3.14/5.166e-9\n",
    "flux_err = np.max((fhi-f, f-flo), axis=0)\n",
    "file = open(f'/Users/eusracenorth/Documents/suzaku_A222-223/suzaku_data/spectras_230307/pointsrcflux.csv', 'w')\n",
    "file.write('region, flux, flux_err\\n')\n",
    "for reg in regions:\n",
    "    src_idx = src_idxes[reg]\n",
    "    if src_idx=='none':\n",
    "        ps_flux = 0\n",
    "        ps_err = 0 \n",
    "    else:\n",
    "        src_idx = np.array(src_idx)-1\n",
    "        ps_flux = f[src_idx].sum()\n",
    "        ps_err = np.sqrt((flux_err[src_idx]**2).sum())\n",
    "    if reg in half_src_idxes.keys():\n",
    "        half_src_idx = np.array(half_src_idxes[reg])-1\n",
    "        half_srcflux = 0.5 * f[half_src_idx].sum()\n",
    "        half_err = 0.5 * (flux_err[half_src_idx]**2).sum()**0.5\n",
    "        sum_flux = half_srcflux + ps_flux\n",
    "        sum_err = (half_err**2 + ps_err**2).sum()**0.5        \n",
    "    else:\n",
    "        half_srcflux = 0\n",
    "        half_err = 0\n",
    "        sum_flux = ps_flux\n",
    "        sum_err = ps_err\n",
    "    file.write(f'{reg}, {sum_flux}, {sum_err}\\n')\n",
    "    print(reg, half_srcflux, half_err, ps_flux, ps_err, sum_flux, sum_err, suzaku_norm(sum_flux,areas[reg]), suzaku_norm(sum_err,areas[reg]))\n",
    "file.close()"
   ]
  },
  {
   "cell_type": "markdown",
   "metadata": {},
   "source": [
    "read rui xmm flux table"
   ]
  },
  {
   "cell_type": "code",
   "execution_count": null,
   "metadata": {},
   "outputs": [],
   "source": [
    "src_idxes = {'A222_1':[14,95],'A222_2':[5,6,93],'A222_3':[3,4,96,84,16],\n",
    "    'A222_4a':[11],'A222_4b':'none','A222_5a':[12,13], 'A222_5b':[23,25,28,31], \n",
    "    'A223_1':[64],'A223_2':[59,71],'A223_3':[69,51,42,43,44,58],'A223_4b':[79,73,72,74,78,61,53],'A223_5a':'none', 'A223_5b':[62,49], 'bkg':[0], 'werner':[26, 20, ]}"
   ]
  },
  {
   "cell_type": "code",
   "execution_count": null,
   "metadata": {},
   "outputs": [],
   "source": [
    "path = '/Users/eusracenorth/Documents/suzaku_A222-223/xmm_data/rui'\n",
    "hdul = fits.open(f'{path}/srclist_sum_ex_extend_byeye.fits')\n",
    "data = hdul[1].data\n",
    "trans = 1/1.2\n",
    "# where_lst = [(data['OBS_ID']=='0502020101'), (data['OBS_ID']=='0502020201'), (data['OBS_ID']!='0502020101') & (data['OBS_ID']!='0502020201')]\n",
    "# labels = ['101', '201', 'stack']\n",
    "where_lst = [(data['OBS_ID']!='0502020101') & (data['OBS_ID']!='0502020201')]\n",
    "labels = ['stack']\n",
    "for i, where in enumerate(where_lst):\n",
    "    flux = (np.array(data[\"EP_5_FLUX\"][where] ) + np.array(data[\"EP_4_FLUX\"][where] ) )* trans\n",
    "    f_PN = (np.array(data[\"PN_5_FLUX\"][where] ) + np.array(data[\"PN_4_FLUX\"][where] ) )* trans\n",
    "    f_MOS1 = (np.array(data[\"M1_5_FLUX\"][where] ) + np.array(data[\"M1_4_FLUX\"][where] ) )*trans\n",
    "    f_MOS2 = (np.array(data[\"M2_5_FLUX\"][where] ) + np.array(data[\"M2_4_FLUX\"][where] ) )*trans\n",
    "    f = flux\n",
    "f[f<5e-15] = np.nan\n"
   ]
  }
 ],
 "metadata": {
  "kernelspec": {
   "display_name": "Python 3.10.1 64-bit ('3.10.1')",
   "language": "python",
   "name": "python3"
  },
  "language_info": {
   "codemirror_mode": {
    "name": "ipython",
    "version": 3
   },
   "file_extension": ".py",
   "mimetype": "text/x-python",
   "name": "python",
   "nbconvert_exporter": "python",
   "pygments_lexer": "ipython3",
   "version": "3.10.1"
  },
  "orig_nbformat": 4,
  "vscode": {
   "interpreter": {
    "hash": "1302458d99d58fefb56dc0fec08d039cf240bdcae78a53a9226b7c46b3832fa1"
   }
  }
 },
 "nbformat": 4,
 "nbformat_minor": 2
}
