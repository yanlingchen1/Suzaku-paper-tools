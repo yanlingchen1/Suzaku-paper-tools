{
 "cells": [
  {
   "cell_type": "markdown",
   "metadata": {},
   "source": [
    "fit spectrums of annuluses and get temperatures and densities from fitting\n",
    "\n",
    "method: create series of shell for every region in python, then run in termial in a loop"
   ]
  },
  {
   "cell_type": "code",
   "execution_count": 2,
   "metadata": {},
   "outputs": [],
   "source": [
    "'''\n",
    "A223_4b has to be set separately, also pay attention to A223_5\n",
    "'''\n",
    "# read hicxb, locxb, medcxb\n",
    "path = '/Users/eusracenorth/Documents/suzaku_A222-223/suzaku_data/spectras_230307/fit_spec_bins/shells'\n",
    "f = open(f'{path}/../../total_cxb_xissim_xi0.csv')\n",
    "lines = f.readlines()\n",
    "lines = lines[1:-3]\n",
    "\n",
    "for i, line in enumerate(lines):\n",
    "    name = line.split(',')[0]\n",
    "    if ('a' in name):\n",
    "        name = name[:-1]\n",
    "        hicxb1 = line.split(',')[-2]\n",
    "        locxb1 = line.split(',')[-1].split()[0]\n",
    "        medcxb1 = line.split(',')[-4]\n",
    "        hicxb2 = lines[i+1].split(',')[-2]\n",
    "        locxb2 = lines[i+1].split(',')[-1].split()[0]\n",
    "        medcxb2 = lines[i+1].split(',')[-4]\n",
    "        vnames = [f'{name}_med', f'{name}_hicxb', f'{name}_locxb']\n",
    "        cxbs = [medcxb1, hicxb1, locxb1, medcxb2, hicxb2, locxb2]\n",
    "        for j in range(3):\n",
    "            newf = open(f'{path}/{vnames[j]}.sh', 'w')\n",
    "            newf.write(f'''\n",
    "xspec << EOT\n",
    "cpd /xs\n",
    "@{name.split('_')[0]}_annu_{name.split('_')[1]}.xcm\n",
    "@clus_230314_mdl.xcm\n",
    "new 16 {cxbs[j]}e-4\n",
    "new 64 {cxbs[j+3]}e-4\n",
    "free 64\n",
    "new 80=p64\n",
    "new 96=p64\n",
    "sho par\n",
    "setp energy\n",
    "setp background\n",
    "fit\n",
    "log >{vnames[j]}.log\n",
    "sho fre\n",
    "log none\n",
    "pl ldat rat\n",
    "setp rebin 100 3\n",
    "save all {vnames[j]}_annus.xcm\n",
    "ipl\n",
    "we {vnames[j]}\n",
    "exit\n",
    "exit \n",
    "no\n",
    "EOT\n",
    "        ''')\n",
    "            newf.close()\n",
    "#     elif ('4b' in name):\n",
    "#         hicxb = line.split(',')[-2].split()[0]\n",
    "#         locxb = line.split(',')[-1].split()[0]\n",
    "#         medcxb = line.split(',')[-4].split()[0]\n",
    "#         cxbs = [medcxb, hicxb, locxb]\n",
    "#         vnames = [f'{name}_med', f'{name}_hicxb', f'{name}_locxb']\n",
    "#         for j in range(3):\n",
    "#             newf = open(f'{path}/{vnames[j]}.sh', 'w')\n",
    "#             newf.write(f'''\n",
    "# xspec << EOT\n",
    "# cpd /xs\n",
    "# @{name.split('_')[0]}_annu_{name.split('_')[1]}.xcm\n",
    "# @clus_230314_mdl.xcm\n",
    "# new 16 {cxbs[j]}e-4\n",
    "# sho par\n",
    "# setp energy\n",
    "# setp background\n",
    "# fit\n",
    "# log >{vnames[j]}.log\n",
    "# sho fre\n",
    "# log none\n",
    "# pl ldat rat\n",
    "# setp rebin 100 3\n",
    "# save all {vnames[j]}_annus.xcm\n",
    "# ipl\n",
    "# we {vnames[j]}\n",
    "# exit\n",
    "# exit \n",
    "# no\n",
    "# EOT\n",
    "#         ''') \n",
    "    elif ('b' in name):\n",
    "        continue\n",
    "    \n",
    "    else:\n",
    "        hicxb = line.split(',')[-2].split()[0]\n",
    "        locxb = line.split(',')[-1].split()[0]\n",
    "        medcxb = line.split(',')[-4].split()[0]\n",
    "        cxbs = [medcxb, hicxb, locxb]\n",
    "        vnames = [f'{name}_med', f'{name}_hicxb', f'{name}_locxb']\n",
    "        for j in range(3):\n",
    "            newf = open(f'{path}/{vnames[j]}.sh', 'w')\n",
    "            newf.write(f'''\n",
    "xspec << EOT\n",
    "cpd /xs\n",
    "@{name.split('_')[0]}_annu_{name.split('_')[1]}.xcm\n",
    "@clus_230314_mdl.xcm\n",
    "new 16 {cxbs[j]}e-4\n",
    "sho par\n",
    "setp energy\n",
    "setp background\n",
    "fit\n",
    "log >{vnames[j]}.log\n",
    "sho fre\n",
    "log none\n",
    "pl ldat rat\n",
    "setp rebin 100 3\n",
    "save all {vnames[j]}_annus.xcm\n",
    "ipl\n",
    "we {vnames[j]}\n",
    "exit\n",
    "exit \n",
    "no\n",
    "EOT\n",
    "        ''')\n",
    "            newf.close()\n"
   ]
  },
  {
   "cell_type": "markdown",
   "metadata": {},
   "source": [
    "run at root dir"
   ]
  },
  {
   "cell_type": "code",
   "execution_count": null,
   "metadata": {
    "vscode": {
     "languageId": "shellscript"
    }
   },
   "outputs": [],
   "source": [
    "rm fit_spec_bins/logs/*\n",
    "y\n",
    "rm fit_spec_bins/qdps/*\n",
    "y\n",
    "rm fit_spec_bins/xcms/*\n",
    "y\n",
    "for j in 1 2 3 4b 5\n",
    "do\n",
    "for i in med locxb hicxb\n",
    "do\n",
    "for x in 3\n",
    "do\n",
    "sh fit_spec_bins/shells/A22${x}_${j}_${i}.sh\n",
    "done\n",
    "done\n",
    "done\n",
    "\n",
    "for j in 1 2 3 4 5\n",
    "do\n",
    "for i in med locxb hicxb\n",
    "do\n",
    "for x in 2\n",
    "do\n",
    "sh fit_spec_bins/shells/A22${x}_${j}_${i}.sh\n",
    "done\n",
    "done\n",
    "done"
   ]
  },
  {
   "cell_type": "code",
   "execution_count": null,
   "metadata": {
    "vscode": {
     "languageId": "shellscript"
    }
   },
   "outputs": [],
   "source": [
    "mv *.log fit_spec_bins/logs\n",
    "mv *.qdp fit_spec_bins/qdps\n",
    "mv *.pco fit_spec_bins/qdps\n",
    "mv *annus*xcm fit_spec_bins/xcms"
   ]
  },
  {
   "cell_type": "code",
   "execution_count": 14,
   "metadata": {
    "vscode": {
     "languageId": "shellscript"
    }
   },
   "outputs": [
    {
     "data": {
      "text/plain": [
       "'1234'"
      ]
     },
     "execution_count": 14,
     "metadata": {},
     "output_type": "execute_result"
    }
   ],
   "source": [
    "cd fit_spec_bins/logs\n",
    "rm sum*log\n",
    "for j in 1 2 3 4b 5\n",
    "do\n",
    "for i in med locxb hicxb\n",
    "do\n",
    "for x in 3\n",
    "do\n",
    "cat A22${x}_${j}_${i}.log >> sum_A22${x}_${i}.log\n",
    "done\n",
    "done\n",
    "done\n",
    "\n",
    "for j in 1 2 3 4 5\n",
    "do\n",
    "for i in med locxb hicxb\n",
    "do\n",
    "for x in 2\n",
    "do\n",
    "cat A22${x}_${j}_${i}.log >> sum_A22${x}_${i}.log\n",
    "done\n",
    "done\n",
    "done"
   ]
  },
  {
   "cell_type": "code",
   "execution_count": null,
   "metadata": {
    "vscode": {
     "languageId": "shellscript"
    }
   },
   "outputs": [],
   "source": []
  }
 ],
 "metadata": {
  "kernelspec": {
   "display_name": "Python 3.10.1 64-bit ('3.10.1')",
   "language": "python",
   "name": "python3"
  },
  "language_info": {
   "codemirror_mode": {
    "name": "ipython",
    "version": 3
   },
   "file_extension": ".py",
   "mimetype": "text/x-python",
   "name": "python",
   "nbconvert_exporter": "python",
   "pygments_lexer": "ipython3",
   "version": "3.10.1"
  },
  "orig_nbformat": 4,
  "vscode": {
   "interpreter": {
    "hash": "1302458d99d58fefb56dc0fec08d039cf240bdcae78a53a9226b7c46b3832fa1"
   }
  }
 },
 "nbformat": 4,
 "nbformat_minor": 2
}
