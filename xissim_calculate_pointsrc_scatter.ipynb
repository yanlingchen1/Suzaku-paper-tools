{
 "cells": [
  {
   "cell_type": "code",
   "execution_count": null,
   "metadata": {},
   "outputs": [],
   "source": [
    "'''\n",
    "test\n",
    "1. test if tbabs*pow with different norm just different with scaling --- yes, so I can directly scale qdp file\n",
    "2. test how to scale qdp file\n",
    "main\n",
    "1. output a table of pointsrc fluxes and radec from chandra srcflux\n",
    "2. create tbabs*pow for every point source with same index 1.4 but different norm, norm scaled by pointsrc flux\n",
    "3. get photon fluxes from the models (or from scaling )\n",
    "4. input all above into xissim\n",
    "5. extract image of xissim\n",
    "6. investigate for every spectrum region what's the point source flux.\n",
    "'''"
   ]
  },
  {
   "cell_type": "markdown",
   "metadata": {},
   "source": [
    "1. plot qdp basic model"
   ]
  },
  {
   "cell_type": "code",
   "execution_count": null,
   "metadata": {},
   "outputs": [],
   "source": [
    "import numpy as np\n",
    "import matplotlib.pyplot as plt\n",
    "\n",
    "path = '/Users/eusracenorth/Documents/suzaku_A222-223/xissim_cxb'\n",
    "# for tbabs*pow for energy 2-8 keV, norm=1\n",
    "phflux = 0.80469\n",
    "energyflux = 5.2431e-09\n",
    "\n",
    "f = open(f'{path}/tbabs_pow.qdp')\n",
    "lines = f.readlines()\n",
    "lines = lines[3:]\n",
    "E, y = np.zeros(len(lines)),np.zeros(len(lines))\n",
    "for i, line in enumerate(lines):\n",
    "    E[i] = line.split(' ')[0]\n",
    "    y[i] = line.split(' ')[2]\n",
    "\n",
    "plt.scatter(E, y)\n",
    "plt.xscale('log')\n",
    "plt.yscale('log')"
   ]
  },
  {
   "cell_type": "markdown",
   "metadata": {},
   "source": [
    "create table of sources radec, flux, flux_hi, flux_lo"
   ]
  },
  {
   "cell_type": "code",
   "execution_count": 24,
   "metadata": {},
   "outputs": [
    {
     "name": "stdout",
     "output_type": "stream",
     "text": [
      "97\n",
      "90\n",
      "9.82844e-13\n",
      "2.718499696048632e-13\n"
     ]
    }
   ],
   "source": [
    "# plot chandra cxc pointsrc from srcflux\n",
    "workpath = '/Users/eusracenorth/Documents/suzaku_A222-223/chandra/data/wavdetect'\n",
    "file = open(f'{workpath}/srcflux_summary_idx14.txt')\n",
    "# 0.5-7keV to 2-8keV\n",
    "flux = []\n",
    "dat = file.readlines()\n",
    "file.close()\n",
    "f, flo, fhi = [],[],[]\n",
    "cts = 0\n",
    "\n",
    "for line in dat:\n",
    "    if 'Unabs Mod.Flux ' in line:\n",
    "        string = line.split('Flux ')[-1].split('erg')[0].replace(\" \",\"\")\n",
    "        errstr = line.split('(')[-1]\n",
    "        flo.append(float(errstr.split(',')[0]))\n",
    "        fhi.append(float(errstr.split(',')[-1].split(')')[0]))\n",
    "        if 'E' in string:\n",
    "            f.append(float(string))\n",
    "        else:\n",
    "            f.append(np.nan)\n",
    "\n",
    "flo = np.array(flo)\n",
    "fhi = np.array(fhi)\n",
    "f = np.array(f)\n",
    "flo[~np.isfinite(flo)] = 0\n",
    "fhi[~np.isfinite(fhi)] = 0\n",
    "f[~np.isfinite(f)] = 0\n",
    "print(len(f))\n",
    "print(np.sum(fhi>3e-15))\n",
    "print(f[fhi>3e-15].sum())\n",
    "flux_err = np.min((fhi-f, f-flo), axis=0)\n",
    "print((flux_err[fhi>3e-15]/1.645).sum())"
   ]
  },
  {
   "cell_type": "code",
   "execution_count": null,
   "metadata": {},
   "outputs": [],
   "source": [
    "# plot chandra cxc pointsrc from srcflux\n",
    "workpath = '/Users/eusracenorth/Documents/suzaku_A222-223/profile_230302/chandra'\n",
    "file = open(f'{workpath}/wavdetect_merge_clean_src_fk5.reg')\n",
    "newfile = open(f'{workpath}/src_ht6e-15.reg', 'w')\n",
    "lines = file.readlines()\n",
    "lines = lines[3:]\n",
    "print(len(lines))\n",
    "lines = np.array(lines)[(np.array(fhi)>6e-15)]\n",
    "print(len(lines))\n",
    "newfile.write(f'fk5\\n')\n",
    "for i,line in enumerate(lines):\n",
    "    newfile.write(f'{line}')\n",
    "newfile.close()"
   ]
  },
  {
   "cell_type": "code",
   "execution_count": 145,
   "metadata": {},
   "outputs": [
    {
     "ename": "TypeError",
     "evalue": "unsupported operand type(s) for -: 'float' and '_io.TextIOWrapper'",
     "output_type": "error",
     "traceback": [
      "\u001b[0;31m---------------------------------------------------------------------------\u001b[0m",
      "\u001b[0;31mTypeError\u001b[0m                                 Traceback (most recent call last)",
      "Cell \u001b[0;32mIn [145], line 12\u001b[0m\n\u001b[1;32m     10\u001b[0m ra \u001b[39m=\u001b[39m np\u001b[39m.\u001b[39mzeros(\u001b[39mlen\u001b[39m(lines))\n\u001b[1;32m     11\u001b[0m dec \u001b[39m=\u001b[39m np\u001b[39m.\u001b[39mzeros(\u001b[39mlen\u001b[39m(lines))\n\u001b[0;32m---> 12\u001b[0m flux_err \u001b[39m=\u001b[39m np\u001b[39m.\u001b[39mmax((fhi\u001b[39m-\u001b[39;49mf, f\u001b[39m-\u001b[39mflo), axis\u001b[39m=\u001b[39m\u001b[39m0\u001b[39m)\n\u001b[1;32m     13\u001b[0m \u001b[39mfor\u001b[39;00m i,line \u001b[39min\u001b[39;00m \u001b[39menumerate\u001b[39m(lines):\n\u001b[1;32m     14\u001b[0m     ra[i] \u001b[39m=\u001b[39m line\u001b[39m.\u001b[39msplit(\u001b[39m'\u001b[39m\u001b[39m(\u001b[39m\u001b[39m'\u001b[39m)[\u001b[39m1\u001b[39m]\u001b[39m.\u001b[39msplit(\u001b[39m'\u001b[39m\u001b[39m,\u001b[39m\u001b[39m'\u001b[39m)[\u001b[39m0\u001b[39m]\n",
      "\u001b[0;31mTypeError\u001b[0m: unsupported operand type(s) for -: 'float' and '_io.TextIOWrapper'"
     ]
    }
   ],
   "source": [
    "# read chandra srcflux coordinates\n",
    "where = (fhi>6e-15)\n",
    "workpath = '/Users/eusracenorth/Documents/suzaku_A222-223/profile_230302/chandra'\n",
    "file = open(f'{workpath}/src_ht6e-15.reg')\n",
    "newfile = open(f'{path}/ps_table.csv', 'w')\n",
    "newfile.write(f'ra, dec, flux, flux_err\\n')\n",
    "lines = file.readlines()\n",
    "lines = np.array(lines)[1:]\n",
    "# print(lines)\n",
    "ra = np.zeros(len(lines))\n",
    "dec = np.zeros(len(lines))\n",
    "flux_err = np.max((fhi-f, f-flo), axis=0)\n",
    "for i,line in enumerate(lines):\n",
    "    ra[i] = line.split('(')[1].split(',')[0]\n",
    "    dec[i] = line.split('(')[1].split(',')[1]\n",
    "\n",
    "    newfile.write(f'{ra[i]}, {dec[i]}, {f[where][i]}, {flux_err[where][i]}\\n')\n",
    "newfile.close()\n"
   ]
  },
  {
   "cell_type": "markdown",
   "metadata": {},
   "source": [
    "create qdp for every point src and calculate phflux for each src"
   ]
  },
  {
   "cell_type": "code",
   "execution_count": null,
   "metadata": {},
   "outputs": [],
   "source": [
    "import numpy as np\n",
    "import matplotlib.pyplot as plt\n",
    "\n",
    "path = '/Users/eusracenorth/Documents/suzaku_A222-223/xissim_cxb'\n",
    "# for tbabs*pow for energy 2-8 keV, norm=1\n",
    "phflux = 0.80469\n",
    "energyflux = 5.2431e-09\n",
    "\n",
    "f = open(f'{path}/tbabs_pow.qdp')\n",
    "phflux_f = open(f'{path}/srcs_phflux.log', 'w')\n",
    "phflux_ferr = open(f'{path}/srcs_err_phflux.log', 'w')\n",
    "\n",
    "lines = f.readlines()\n",
    "initials = f'{lines[0]}{lines[1]}{lines[2]}'\n",
    "lines = lines[3:]\n",
    "f.close()\n",
    "E, E_err, y = np.zeros(len(lines)),np.zeros(len(lines)), np.zeros(len(lines))\n",
    "for i, line in enumerate(lines):\n",
    "    E[i] = line.split(' ')[0]\n",
    "    E_err[i] = line.split(' ')[1]\n",
    "    y[i] = line.split(' ')[2]\n",
    "f = open(f'{path}/ps_table.csv')\n",
    "lines = f.readlines()\n",
    "lines = lines[1:]\n",
    "f.close()\n",
    "for i, line in enumerate(lines):\n",
    "    newf1 = open(f'{path}/qdps/src{i}.qdp', 'w')\n",
    "    newf2 = open(f'{path}/qdps/src{i}_err.qdp', 'w')\n",
    "    flux = line.split(',')[-2]\n",
    "    flux_err = line.split(',')[-1]\n",
    "    newy = y * float(flux)/energyflux\n",
    "    newyerr = y * float(flux_err)/energyflux\n",
    "    phflux_f.write(f'{float(flux)/energyflux*phflux}\\n')\n",
    "    phflux_ferr.write(f'{float(flux_err)/energyflux*phflux}\\n')\n",
    "    newf1.write(initials)\n",
    "    newf2.write(initials)\n",
    "    for i in range(len(E)):\n",
    "        newf1.write(f'{E[i]} {E_err[i]} {newy[i]}\\n')\n",
    "        newf2.write(f'{E[i]} {E_err[i]} {newyerr[i]}\\n')\n",
    "f.close()\n",
    "newf1.close()\n",
    "newf2.close()\n",
    "phflux_f.close()\n",
    "phflux_ferr.close()"
   ]
  },
  {
   "cell_type": "markdown",
   "metadata": {},
   "source": [
    "make photon lists"
   ]
  },
  {
   "cell_type": "code",
   "execution_count": null,
   "metadata": {},
   "outputs": [],
   "source": [
    "f1 = open(f'{path}/srcs_phflux.log')\n",
    "f2 = open(f'{path}/srcs_err_phflux.log')\n",
    "pf = f1.readlines()\n",
    "pferr = f2.readlines()\n",
    "f1.close()\n",
    "f2.close()\n",
    "newf = open(f'{path}/bin/mkphlist_srcs.sh', 'w')\n",
    "newf2 = open(f'{path}/bin/mkphlist_srcs_err.sh', 'w')\n",
    "for i in range(len(pf)):\n",
    "    newf.write(f'mkphlist photon_flux={float(pf[i])} flux_emin=2 flux_emax=8 spec_mode=0 qdp_spec_file=../qdps/src{i}.qdp image_mode=1 ra={ra[i]} dec={dec[i]} time_mode=1 limit_mode=1 exposure=82000 outfile=../photons/src{i}.photon\\n')\n",
    "    newf2.write(f'mkphlist photon_flux={float(pf[i])} flux_emin=2 flux_emax=8 spec_mode=0 qdp_spec_file=../qdps/src{i}_err.qdp image_mode=1 ra={ra[i]} dec={dec[i]} time_mode=1 limit_mode=1 exposure=82000 outfile=../photons/src{i}_err.photon\\n')\n",
    "newf.close()\n",
    "newf2.close()\n"
   ]
  },
  {
   "cell_type": "markdown",
   "metadata": {},
   "source": [
    "copy rmf from previous files\n",
    "`cp /Users/eusracenorth/Documents/suzaku_A222-223/suzaku_data/xissim/230106/*.rmf .`"
   ]
  },
  {
   "cell_type": "markdown",
   "metadata": {},
   "source": [
    "xissim"
   ]
  },
  {
   "cell_type": "code",
   "execution_count": null,
   "metadata": {},
   "outputs": [],
   "source": [
    "newf = open(f'{path}/bin/xissim_srcs.sh', 'w')\n",
    "newf2 = open(f'{path}/bin/xissim_srcs_err.sh', 'w')\n",
    "for x in [0,1,3]:\n",
    "    for i in range(82):\n",
    "        newf.write(f'xissim clobber=yes \\\n",
    "        instrume=XIS{x} ea1=24.443784053014 ea2=102.914101952946 ea3=225.000493684051 \\\n",
    "        infile1=../photons/src{i}.photon infile2=none \\\n",
    "        date_obs=\"2012-12-25T04:38:43\" \\\n",
    "        xis_rmffile=../xis{x}.rmf \\\n",
    "        xis_contamifile=/Users/eusracenorth/Downloads/caldb/data/suzaku/xis/bcf/ae_xi{x}_contami_20120719.fits \\\n",
    "        outfile=../events/src{i}_xis{x}.evt\\n')\n",
    "\n",
    "        newf2.write(f'xissim clobber=yes \\\n",
    "        instrume=XIS{x} ea1=24.443784053014 ea2=102.914101952946 ea3=225.000493684051 \\\n",
    "        infile1=../photons/src{i}_err.photon infile2=none \\\n",
    "        date_obs=\"2011-01-17T04:38:43\" \\\n",
    "        xis_rmffile=../xis{x}.rmf \\\n",
    "        xis_contamifile=/Users/eusracenorth/Downloads/caldb/data/suzaku/xis/bcf/ae_xi{x}_contami_20120719.fits \\\n",
    "        outfile=../events/src{i}_err_xis{x}.evt\\n')\n",
    "newf.close()\n",
    "newf2.close()"
   ]
  },
  {
   "cell_type": "markdown",
   "metadata": {},
   "source": [
    "extract images from each events"
   ]
  },
  {
   "cell_type": "code",
   "execution_count": null,
   "metadata": {},
   "outputs": [],
   "source": [
    "from glob import glob\n",
    "import os\n",
    "\n",
    "path = '/Users/eusracenorth/Documents/suzaku_A222-223/xissim_cxb'\n",
    "os.chdir(f'{path}/events')\n",
    "evtlist = glob('*.evt')\n",
    "\n",
    "os.chdir(f'{path}/bin')\n",
    "for evt in evtlist:\n",
    "    newf = open(f'{path}/bin/ext_ima.sh', 'w')\n",
    "    name = evt.split('.')[0]\n",
    "    newf.write(f'export evt={name} \\nxselect << EOT \\na222 \\nset datadir ../events \\nread events {name}.evt \\nfilter pha_cutoff 137 2740 \\nextract image \\nsave image ../images/{name}_img.fits \\nno \\nexit \\nno \\nEOT \\n')\n",
    "    newf.close()\n",
    "    os.system('bash ext_ima.sh') # not work, convert to shell"
   ]
  },
  {
   "cell_type": "markdown",
   "metadata": {},
   "source": [
    "stack images to src image and src_err image for band 2-8 keV"
   ]
  },
  {
   "cell_type": "code",
   "execution_count": null,
   "metadata": {},
   "outputs": [],
   "source": [
    "from astropy.io import fits\n",
    "os.chdir(f'{path}/images')\n",
    "\n",
    "for x in [0,1,3]:\n",
    "    i = 0\n",
    "    name = f'src{i}_err_xis{x}_img.fits'\n",
    "    os.system(f'cp {name} sumsrc_err_xis{x}_img.fits')\n",
    "    hdu = fits.open(f'{name}')[0]\n",
    "    image_data = hdu.data\n",
    "    sum_img = np.zeros(image_data.shape)\n",
    "    for i in range(81):\n",
    "        name = f'src{i}_err_xis{x}_img.fits'\n",
    "        hdu = fits.open(f'{name}')[0]\n",
    "        image_data = hdu.data\n",
    "        sum_img += image_data\n",
    "        \n",
    "    with fits.open(f'sumsrc_err_xis{x}_img.fits', mode='update') as hdul:\n",
    "        hdul[0].data = sum_img.T\n",
    "        hdul.flush()\n",
    "    "
   ]
  },
  {
   "cell_type": "code",
   "execution_count": 130,
   "metadata": {},
   "outputs": [
    {
     "name": "stdout",
     "output_type": "stream",
     "text": [
      "(192, 192)\n",
      "1.0\n"
     ]
    },
    {
     "name": "stderr",
     "output_type": "stream",
     "text": [
      "/Users/eusracenorth/.pyenv/versions/3.10.1/lib/python3.10/site-packages/astropy/wcs/wcs.py:501: FITSFixedWarning: RADECSYS= 'FK5 ' / celestial coord system \n",
      "the RADECSYS keyword is deprecated, use RADESYSa.\n",
      "  wcsprm = _wcs.Wcsprm(header=header_bytes, key=key,\n",
      "/Users/eusracenorth/.pyenv/versions/3.10.1/lib/python3.10/site-packages/astropy/wcs/wcs.py:725: FITSFixedWarning: 'datfix' made the change 'Set DATEREF to '2000-01-01T00:01:04.184' from MJDREF.\n",
      "Set MJD-END to 55579.142627 from DATE-END'.\n",
      "  warnings.warn(\n"
     ]
    },
    {
     "data": {
      "image/png": "[encoded data removed]",
      "text/plain": [
       "<Figure size 600x600 with 1 Axes>"
      ]
     },
     "metadata": {},
     "output_type": "display_data"
    },
    {
     "data": {
      "text/plain": [
       "<Figure size 640x480 with 0 Axes>"
      ]
     },
     "metadata": {},
     "output_type": "display_data"
    }
   ],
   "source": [
    "# from astropy.visualization import astropy_mpl_style\n",
    "import matplotlib.colors as colors\n",
    "# plt.style.use(astropy_mpl_style)\n",
    "plt.style.use('default')\n",
    "from astropy.utils.data import get_pkg_data_filename\n",
    "from astropy.wcs import WCS\n",
    "from astropy.convolution import convolve\n",
    "from astropy.convolution import Gaussian2DKernel\n",
    "import pyregion\n",
    "\n",
    "from matplotlib.patches import Annulus, Circle\n",
    "\n",
    "kernel = Gaussian2DKernel(x_stddev=1)\n",
    "# 'EPN_corr_counts'\n",
    "file = f\"{path}/images/sumsrc_err_xis0_img.fits\"\n",
    "hdu = fits.open(f'{file}')[0]\n",
    "image_data = hdu.data\n",
    "print(image_data.shape)\n",
    "fig= plt.figure(figsize = (6,6))\n",
    "ax = fig.add_axes([0.1, 0.1, 0.8, 0.8], projection=WCS(f'{file}'))\n",
    "ra = ax.coords[0]\n",
    "dec = ax.coords[1]\n",
    "# plt.grid(color='grey', ls='dashed')\n",
    "plt.grid('off')\n",
    "ra.set_axislabel('RA')\n",
    "dec.set_axislabel('Dec')\n",
    "# image_data = np.where(np.isfinite(np.log10(image_data)), image_data, np.nan)\n",
    "# astropy_conv = convolve(image_data, kernel)\n",
    "print(np.nanmin(image_data[image_data>0]))\n",
    "plt.imshow(image_data, cmap='gnuplot2', norm = colors.LogNorm(vmin = 1e-4,vmax=1), origin='lower')\n",
    "plt.show()\n",
    "plt.clf()\n"
   ]
  },
  {
   "cell_type": "markdown",
   "metadata": {},
   "source": [
    "extract counts for every spectrum extraction region"
   ]
  },
  {
   "cell_type": "code",
   "execution_count": 16,
   "metadata": {},
   "outputs": [],
   "source": [
    "# make masks for regions\n",
    "from glob import glob\n",
    "path = '/Users/eusracenorth/Documents/suzaku_A222-223/xissim_cxb/chandra_6e-15'\n",
    "\n",
    "workpath = '/Users/eusracenorth/Documents/suzaku_A222-223/suzaku_data/spectras/cxb_robust_test/regions_0406_set1'\n",
    "os.chdir(f'{workpath}/regions')\n",
    "reglist = glob('*.reg')\n",
    "newf = open(f'{workpath}/bin/make_masks.sh', 'w')\n",
    "for reg in reglist:\n",
    "    name = reg.split('.')[0]\n",
    "    newf.write(f\"ftimgcalc regions/{name}.fits 'regfilter(\\\"regions/{name}.reg\\\",A.P1,A.P2) ? (1):(0)' a={path}/images/sumsrc_xis0_img.fits clobber=yes\\n\")\n",
    "newf.close()"
   ]
  },
  {
   "cell_type": "code",
   "execution_count": 24,
   "metadata": {},
   "outputs": [
    {
     "data": {
      "text/plain": [
       "'\\nftimgcalc ../regions/werner_fila_1.6.fits \\'regfilter(\"../regions/werner_fila_1.6.reg\",A.P1,A.P2) ? (1):(0)\\' a=../images/sumsrc_xis0_img.fits clobber=yes\\nftimgcalc ../regions/bkg_230309.fits \\'regfilter(\"../regions/bkg_230309.reg\",A.P1,A.P2) ? (1):(0)\\' a=../images/sumsrc_err_xis3_img.fits clobber=yes\\n'"
      ]
     },
     "execution_count": 24,
     "metadata": {},
     "output_type": "execute_result"
    }
   ],
   "source": [
    "# farith mask with sum image\n",
    "os.chdir(f'{workpath}/regions')\n",
    "reglist = glob('*.fits')\n",
    "# reglist = ['werner_fila_1.6.fits', 'bkg_230309.fits']\n",
    "newf = open(f'{workpath}/bin/ext_ps.sh', 'w')\n",
    "for x in [0,1,3]:\n",
    "    reg = 'rui_srcs_ht10e-15_suzaku_altered_ht18e-15_enlarge_alter'\n",
    "    newf.write(f'farith regions/{reg}.fits {path}/images/sumsrc_xis{x}_img.fits annu_img/sumsrc_xis{x}_img_psexcluded.fits \"*\"\\n')\n",
    "    newf.write(f'farith regions/{reg}.fits {path}/images/sumsrc_err_xis{x}_img.fits annu_img/sumsrc_xis{x}_err_psexcluded.fits \"*\"\\n')\n",
    "newf.close()\n",
    "newf = open(f'{workpath}/bin/ext_annu_img.sh', 'w')\n",
    "for x in [0,1,3]:\n",
    "    # for j in [2,3]:\n",
    "    #     for i in [1,2,3]:\n",
    "    #         reg = f'annu_a22{j}_{i}_xis{x}'\n",
    "    #         newf.write(f'farith regions/{reg}.fits annu_img/sumsrc_xis{x}_img_psexcluded.fits annu_img/sumsrc_xis{x}_img_{reg}.fits \"*\"\\n')\n",
    "    #         newf.write(f'farith regions/{reg}.fits annu_img/sumsrc_xis{x}_err_psexcluded.fits annu_img/sumsrc_xis{x}_err_{reg}.fits \"*\"\\n')\n",
    "    newf.write(f'farith regions/filabox.fits annu_img/sumsrc_xis{x}_img_psexcluded.fits annu_img/sumsrc_xis{x}_img_filabox.fits \"*\"\\n')\n",
    "    newf.write(f'farith regions/bkg_230309.fits annu_img/sumsrc_xis{x}_img_psexcluded.fits annu_img/sumsrc_xis{x}_img_bkg_230309.fits \"*\"\\n')\n",
    "    newf.write(f'farith regions/filabox.fits annu_img/sumsrc_xis{x}_err_psexcluded.fits annu_img/sumsrc_xis{x}_err_filabox.fits \"*\"\\n')\n",
    "    newf.write(f'farith regions/bkg_230309.fits annu_img/sumsrc_xis{x}_err_psexcluded.fits annu_img/sumsrc_xis{x}_err_bkg_230309.fits \"*\"\\n')\n",
    "newf.close()\n",
    "'''\n",
    "ftimgcalc ../regions/werner_fila_1.6.fits 'regfilter(\"../regions/werner_fila_1.6.reg\",A.P1,A.P2) ? (1):(0)' a=../images/sumsrc_xis0_img.fits clobber=yes\n",
    "ftimgcalc ../regions/bkg_230309.fits 'regfilter(\"../regions/bkg_230309.reg\",A.P1,A.P2) ? (1):(0)' a=../images/sumsrc_err_xis3_img.fits clobber=yes\n",
    "'''"
   ]
  },
  {
   "cell_type": "code",
   "execution_count": 21,
   "metadata": {},
   "outputs": [],
   "source": [
    "# farith masked regions with ps regions\n",
    "newf = open(f'{workpath}/bin/ext_annu_ps_img.sh', 'w')\n",
    "for x in [0,1,3]:\n",
    "    for j in [2,3]:\n",
    "        for i in [1,2,3]:\n",
    "            reg = f'annu_a22{j}_{i}_xis{x}'\n",
    "            newf.write(f'farith regions/{reg}.fits regions/rui_srcs_ht10e-15_suzaku_altered_ht18e-15_enlarge_alter.fits regions/{reg}_psexcluded.fits \"*\"\\n')\n",
    "newf.write(f'farith regions/filabox.fits regions/rui_srcs_ht10e-15_suzaku_altered_ht18e-15_enlarge_alter.fits regions/filabox_psexcluded.fits \"*\"\\n')\n",
    "newf.write(f'farith regions/bkg_230309.fits regions/rui_srcs_ht10e-15_suzaku_altered_ht18e-15_enlarge_alter.fits regions/bkg_230309_psexcluded.fits \"*\"\\n')\n",
    "newf.close()\n"
   ]
  },
  {
   "cell_type": "code",
   "execution_count": 23,
   "metadata": {},
   "outputs": [],
   "source": [
    "# get areas from above regions by counting pixels using fimgstat\n",
    "import pandas as pd\n",
    "\n",
    "areas = {'annu_a222_1_xis0':163, 'annu_a222_2_xis0':1225, 'annu_a222_3_xis0':1712, \n",
    "    'annu_a223_1_xis0':108, 'annu_a223_2_xis0':728, 'annu_a223_3_xis0':1234,\n",
    "    'annu_a222_1_xis1':163, 'annu_a222_2_xis1':1225, 'annu_a222_3_xis1':1599,\n",
    "    'annu_a223_1_xis1':108, 'annu_a223_2_xis1':735, 'annu_a223_3_xis1':1255,\n",
    "    'annu_a222_1_xis3':163, 'annu_a222_2_xis3':1225, 'annu_a222_3_xis3':1466,\n",
    "    'annu_a223_1_xis3':108, 'annu_a223_2_xis3':733, 'annu_a223_3_xis3':1248,\n",
    "    'filabox':614, 'bkg':440}\n",
    "\n"
   ]
  },
  {
   "cell_type": "markdown",
   "metadata": {},
   "source": [
    "get cts to log and sum log"
   ]
  },
  {
   "cell_type": "code",
   "execution_count": 15,
   "metadata": {
    "vscode": {
     "languageId": "shellscript"
    }
   },
   "outputs": [
    {
     "ename": "SyntaxError",
     "evalue": "expected ':' (1793332989.py, line 1)",
     "output_type": "error",
     "traceback": [
      "\u001b[0;36m  Cell \u001b[0;32mIn [15], line 1\u001b[0;36m\u001b[0m\n\u001b[0;31m    for x in 0 1 3\u001b[0m\n\u001b[0m               ^\u001b[0m\n\u001b[0;31mSyntaxError\u001b[0m\u001b[0;31m:\u001b[0m expected ':'\n"
     ]
    }
   ],
   "source": [
    "for x in 0 1 3\n",
    "do\n",
    "rm sum_xis${x}.log\n",
    "for j in 1 2 3\n",
    "do\n",
    "for i in 2 3\n",
    "do\n",
    "export root=sumsrc_xis${x}_annu_A22${i}_${j}_xis${x}\n",
    "fimgstat ${root}.fits INDEF INDEF >> sum_xis${x}.log\n",
    "done\n",
    "done\n",
    "fimgstat sumsrc_xis${x}_fila_box.fits INDEF INDEF >> sum_xis${x}.log\n",
    "done\n",
    "\n"
   ]
  },
  {
   "cell_type": "code",
   "execution_count": 5,
   "metadata": {},
   "outputs": [],
   "source": [
    "import numpy as np\n",
    "workpath = '/Users/eusracenorth/Documents/suzaku_A222-223/suzaku_data/spectras/spectras_230317/annu_img'\n",
    "xissim_cts = {}\n",
    "for x in [0,1,3]:\n",
    "    xissim_cts[f'xis{x}'] = np.zeros(7)\n",
    "    f = open(f'{workpath}/sum_xis{x}.log')\n",
    "    lines = f.readlines()\n",
    "    i = 0\n",
    "    for line in lines:\n",
    "        if 'The sum of the selected image' in line:\n",
    "            xissim_cts[f'xis{x}'][i] = float(line.split('=')[-1])\n",
    "            i+=1\n",
    "            "
   ]
  },
  {
   "cell_type": "code",
   "execution_count": 14,
   "metadata": {},
   "outputs": [
    {
     "name": "stdout",
     "output_type": "stream",
     "text": [
      "{'xis0': array([152.,  30., 304., 118., 152., 139.]), 'xis1': array([141.,  40., 302., 136., 132., 127.]), 'xis3': array([136.,  34., 313., 155., 163., 146.])}\n"
     ]
    }
   ],
   "source": [
    "print(xissim_cts)"
   ]
  },
  {
   "cell_type": "markdown",
   "metadata": {},
   "source": [
    "calculate pointsources contribution for every regions"
   ]
  },
  {
   "cell_type": "code",
   "execution_count": 6,
   "metadata": {},
   "outputs": [
    {
     "ename": "IndexError",
     "evalue": "index 7 is out of bounds for axis 0 with size 7",
     "output_type": "error",
     "traceback": [
      "\u001b[0;31m---------------------------------------------------------------------------\u001b[0m",
      "\u001b[0;31mIndexError\u001b[0m                                Traceback (most recent call last)",
      "Cell \u001b[0;32mIn [6], line 31\u001b[0m\n\u001b[1;32m     29\u001b[0m newf\u001b[39m.\u001b[39mwrite(\u001b[39m'\u001b[39m\u001b[39mregion, flux_xi0, flux_xi0_err, ratio, flux_xi1, flux_xi1_err, ratio, flux_xi3, flux_xi3_err, ratio\u001b[39m\u001b[39m\\n\u001b[39;00m\u001b[39m'\u001b[39m)\n\u001b[1;32m     30\u001b[0m \u001b[39mfor\u001b[39;00m i \u001b[39min\u001b[39;00m \u001b[39mrange\u001b[39m(\u001b[39mlen\u001b[39m(regions)):\n\u001b[0;32m---> 31\u001b[0m     newf\u001b[39m.\u001b[39mwrite(\u001b[39mf\u001b[39m\u001b[39m\"\u001b[39m\u001b[39m{\u001b[39;00mregions[i]\u001b[39m}\u001b[39;00m\u001b[39m, \u001b[39m\u001b[39m{\u001b[39;00mf_xi0[i]\u001b[39m}\u001b[39;00m\u001b[39m, \u001b[39m\u001b[39m{\u001b[39;00mferr_xi0[i]\u001b[39m}\u001b[39;00m\u001b[39m, \u001b[39m\u001b[39m{\u001b[39;00m\u001b[39mf\u001b[39m\u001b[39m'\u001b[39m\u001b[39m{\u001b[39;00mferr_xi0[i]\u001b[39m/\u001b[39mf_xi0[i]\u001b[39m*\u001b[39m\u001b[39m100\u001b[39m\u001b[39m}\u001b[39;00m\u001b[39m%\u001b[39m\u001b[39m'\u001b[39m\u001b[39m}\u001b[39;00m\u001b[39m, \u001b[39m\u001b[39m{\u001b[39;00mf_xi1[i]\u001b[39m}\u001b[39;00m\u001b[39m, \u001b[39m\u001b[39m{\u001b[39;00mferr_xi1[i]\u001b[39m}\u001b[39;00m\u001b[39m, \u001b[39m\u001b[39m{\u001b[39;00m\u001b[39mf\u001b[39m\u001b[39m'\u001b[39m\u001b[39m{\u001b[39;00mferr_xi1[i]\u001b[39m/\u001b[39mf_xi1[i]\u001b[39m*\u001b[39m\u001b[39m100\u001b[39m\u001b[39m}\u001b[39;00m\u001b[39m%\u001b[39m\u001b[39m'\u001b[39m\u001b[39m}\u001b[39;00m\u001b[39m, \u001b[39m\u001b[39m{\u001b[39;00mf_xi3[i]\u001b[39m}\u001b[39;00m\u001b[39m, \u001b[39m\u001b[39m{\u001b[39;00mferr_xi3[i]\u001b[39m}\u001b[39;00m\u001b[39m,\u001b[39m\u001b[39m{\u001b[39;00m\u001b[39mf\u001b[39m\u001b[39m'\u001b[39m\u001b[39m{\u001b[39;00mferr_xi3[i]\u001b[39m/\u001b[39mf_xi3[i]\u001b[39m*\u001b[39m\u001b[39m100\u001b[39m\u001b[39m}\u001b[39;00m\u001b[39m%\u001b[39m\u001b[39m'\u001b[39m\u001b[39m}\u001b[39;00m\u001b[39m\\n\u001b[39;00m\u001b[39m\"\u001b[39m)\n\u001b[1;32m     32\u001b[0m newf\u001b[39m.\u001b[39mclose()\n",
      "\u001b[0;31mIndexError\u001b[0m: index 7 is out of bounds for axis 0 with size 7"
     ]
    }
   ],
   "source": [
    "# regions = ['A222_1','A222_2','A222_3','A222_4a','A222_4b','A222_5a', 'A222_5b', \n",
    "#     'A223_1','A223_2','A223_3','A223_4b','A223_5a', 'A223_5b', 'werner', 'bkg']\n",
    "# xissim_xi0_cts = np.array([43,112,176,9,62,11,18,7,11,23,37,62,49,23,27,40])\n",
    "# xissim_xi1_cts = np.array([35,112,180,8,78,11,12,15,22,28,35,61,50,25,46,41])\n",
    "# xissim_xi3_cts = np.array([32,120,172,6,74,13,9,8,16,25,43,70,54,30,38,32])\n",
    "# exclude A223_4a\n",
    "# mask[[-6]] = False\n",
    "# xissim_xi0_cts = xissim_xi0_cts[mask]\n",
    "# xissim_xi1_cts = xissim_xi1_cts[mask]\n",
    "# xissim_xi3_cts = xissim_xi3_cts[mask]\n",
    "\n",
    "regions = ['A222_1','A222_2','A222_3', \n",
    "    'A223_1','A223_2','A223_3', 'fila', 'bkg']\n",
    "\n",
    "mask = np.ones(len(xissim_cts['xis0']), dtype=bool)\n",
    "\n",
    "xissim_sum_xi0 = 1470\n",
    "xissim_sum_xi1 = 1514\n",
    "xissim_sum_xi3 = 1573\n",
    "sum_flux = 9.8002e-13\n",
    "sum_flux_err = 3.5e-13 # 3.5e-13, 2.7e-13\n",
    "f_xi0 = xissim_cts['xis0']/xissim_sum_xi0*sum_flux\n",
    "f_xi1 = xissim_cts['xis1']/xissim_sum_xi1*sum_flux\n",
    "f_xi3 = xissim_cts['xis3']/xissim_sum_xi3*sum_flux\n",
    "ferr_xi0 = xissim_cts['xis0']/xissim_sum_xi0*sum_flux_err\n",
    "ferr_xi1 = xissim_cts['xis1']/xissim_sum_xi1*sum_flux_err\n",
    "ferr_xi3 = xissim_cts['xis3']/xissim_sum_xi3*sum_flux_err\n",
    "newf = open(f'{workpath}/ps_flux.csv', 'w')\n",
    "newf.write('region, flux_xi0, flux_xi0_err, ratio, flux_xi1, flux_xi1_err, ratio, flux_xi3, flux_xi3_err, ratio\\n')\n",
    "for i in range(len(regions)):\n",
    "    newf.write(f\"{regions[i]}, {f_xi0[i]}, {ferr_xi0[i]}, {f'{ferr_xi0[i]/f_xi0[i]*100}%'}, {f_xi1[i]}, {ferr_xi1[i]}, {f'{ferr_xi1[i]/f_xi1[i]*100}%'}, {f_xi3[i]}, {ferr_xi3[i]},{f'{ferr_xi3[i]/f_xi3[i]*100}%'}\\n\")\n",
    "newf.close()"
   ]
  },
  {
   "cell_type": "code",
   "execution_count": 13,
   "metadata": {},
   "outputs": [
    {
     "name": "stdout",
     "output_type": "stream",
     "text": [
      "0.0005226480836236933 0.00018435558505244917\n",
      "0.00028784359272164155\n",
      "0.0012411924119241193 0.0002535811072396439\n"
     ]
    }
   ],
   "source": [
    "# for bkg region in suzaku\n",
    "def suzaku_norm(flux, area):\n",
    "    return flux/area*400*3.14/5.166e-9\n",
    "print(suzaku_norm(2.7e-14, 2**2*3.14), suzaku_norm(3.5e-13*40/1470, 2**2*3.14))\n",
    "print(suzaku_norm(1.487e-14, 2**2*3.14))\n",
    "print(suzaku_norm(6.412e-14, 2**2*3.14), suzaku_norm(13.1e-15, 2**2*3.14))"
   ]
  },
  {
   "cell_type": "code",
   "execution_count": 168,
   "metadata": {},
   "outputs": [],
   "source": [
    "areas = {'A222_1':1*3.14,'A222_2':(2.5**2-1)*3.14,'A222_3':(3.5**2-2.5**2)*3.14,'A222_4a':(5**2-3.5**2)*3.14,\n",
    "'A222_4b':(5**2-3.5**2)*3.14*65/360,'A222_5a':(7**2-5**2)*3.14*30/360, 'A222_5b':(7**2-5**2)*3.14*30/360, \n",
    "'A223_1':1*3.14,'A223_2':(2**2-1)*3.14*300/360,'A223_3':(3**2-2**2)*3.14*300/360,\n",
    "'A223_4b':(5.5**2-3**2)*3.14*85/360,'A223_5a':(8**2-5.5**2)*3.14*47/360, 'A223_5b':(8**2-5.5**2)*3.14*20/360,'werner': 1.6**2*3.14, 'bkg': 2**2*3.14 }\n",
    "def suzaku_norm(flux, area):\n",
    "    return flux/area*400*3.14/5.166e-9\n",
    "\n",
    "n_xi0 = []\n",
    "n_err_xi0 = []\n",
    "for i in range(len(flux)):\n",
    "    n_xi0.append(suzaku_norm(flux[i], areas[regions[i]]))\n",
    "    n_err_xi0.append(suzaku_norm(ferr[i], areas[regions[i]]))"
   ]
  },
  {
   "cell_type": "markdown",
   "metadata": {},
   "source": [
    "write the results to table"
   ]
  },
  {
   "cell_type": "code",
   "execution_count": 169,
   "metadata": {},
   "outputs": [
    {
     "name": "stdout",
     "output_type": "stream",
     "text": [
      "['A222_1', 'A222_2', 'A222_3', 'A222_4a', 'A222_4b', 'A222_5a', 'A222_5b', 'A223_1', 'A223_2', 'A223_3', 'A223_4b', 'A223_5a', 'A223_5b', 'werner', 'bkg']\n",
      "[0.0022196865428323873, 0.0011012398352036649, 0.0015142047734050391, 3.64380827824742e-05, 0.001390253004623631, 0.0002839133950134448, 0.0004645855554765461, 0.0003613443209262026, 0.0002271307160107559, 0.0002849458073589483, 0.0006378807903567247, 0.0005740505523933997, 0.0006332129052421073, 0.0005444361978240775, 0.0005162061727517178]\n",
      "[0.0013068704059246614, 0.0006483698137920804, 0.0008915084939641102, 2.1453412956355597e-05, 0.0008185302174117213, 0.0001671578426182707, 0.00027353101519353386, 0.00021274634515052636, 0.00013372627409461655, 0.00016776568931870078, 0.000375560923283025, 0.0003379800093171482, 0.00037281264293044617, 0.0003205441584299225, 0.00030392335021503763]\n"
     ]
    }
   ],
   "source": [
    "print(regions)\n",
    "print(n_xi0)\n",
    "print(n_err_xi0)"
   ]
  },
  {
   "cell_type": "markdown",
   "metadata": {},
   "source": [
    "sum up cosmic variance and pointsrc flux"
   ]
  },
  {
   "cell_type": "code",
   "execution_count": 37,
   "metadata": {},
   "outputs": [],
   "source": [
    "import pandas as pd\n",
    "import numpy as np\n",
    "path = '/Users/eusracenorth/Documents/suzaku_A222-223/xissim_cxb'\n",
    "workpath = '/Users/eusracenorth/Documents/suzaku_A222-223/suzaku_data/spectras/spectras_230317'\n",
    "\n",
    "regions = ['A222_1','A222_2','A222_3', \n",
    "    'A223_1','A223_2','A223_3', 'fila', 'bkg']\n",
    "def suzaku_norm(flux, area):\n",
    "    return flux/area*400*3.14/5.2431e-9\n",
    "cv_data = np.array(pd.read_csv(f'{workpath}/cxb_cosmicvariance.csv'))\n",
    "ps_data = np.array(pd.read_csv(f'{workpath}/ps_flux.csv'))\n",
    "sumflux = cv_data[:,2] + ps_data[:,1]\n",
    "sumerr = (cv_data[:,3]**2 + ps_data[:,2]**2)**0.5\n",
    "\n",
    "f = open(f'{workpath}/total_cxb_xissim_xi0.csv', 'w')\n",
    "f.write('region,area,cxbflux,cxbflux_err,ratio,pointsrcflux,pointsrcflux_err,sumflux,sumflux_err,sumerr_ratio,suzaku_norm,suzaku_norm_err,suzaku_norm_hi,suzaku_norm_lo\\n')\n",
    "for i in range(len(regions)):\n",
    "    sum_norm = suzaku_norm(sumflux[i], cv_data[:,1][i])\n",
    "    sum_norm_err = suzaku_norm(sumerr[i], cv_data[:,1][i])\n",
    "    f.write(f'{cv_data[:,0][i]}, {cv_data[:,1][i]:.2f}, {cv_data[:,2][i]*1e15:.2f}, {cv_data[:,3][i]*1e15:.2f}, {cv_data[:,4][i]}, {ps_data[:,1][i]*1e15:.2f}, {ps_data[:,2][i]*1e15:.2f}, {sumflux[i]*1e15:.2f}, {sumerr[i]*1e15:.2f}, {sumerr[i]/sumflux[i]*100:.2f}%, {sum_norm*1e4:.2f}, {sum_norm_err*1e4:.2f}, {(sum_norm + sum_norm_err)*1e4:.2f}, {(sum_norm - sum_norm_err)*1e4:.2f}\\n')\n",
    "f.write('NOTE: flux *1e-15, norm*1e-4')\n",
    "f.close()"
   ]
  },
  {
   "cell_type": "code",
   "execution_count": null,
   "metadata": {},
   "outputs": [],
   "source": [
    "vary pointsrc norm"
   ]
  },
  {
   "cell_type": "code",
   "execution_count": 35,
   "metadata": {},
   "outputs": [],
   "source": [
    "import pandas as pd\n",
    "import numpy as np\n",
    "path = '/Users/eusracenorth/Documents/suzaku_A222-223/xissim_cxb'\n",
    "regions = ['A222_1','A222_2','A222_3','A222_4a','A222_4b','A222_5a', 'A222_5b', \n",
    "    'A223_1','A223_2','A223_3','A223_4b','A223_5a', 'A223_5b', 'werner', 'bkg']\n",
    "def suzaku_norm(flux, area):\n",
    "    return flux/area*400*3.14/5.2431e-9\n",
    "workpath = '/Users/eusracenorth/Documents/suzaku_A222-223/suzaku_data/spectras/spectras_230307'\n",
    "cv_data = np.array(pd.read_csv(f'{workpath}/cxb_cosmicvariance.csv'))\n",
    "ps_data = np.array(pd.read_csv(f'{workpath}/ps_flux.csv'))\n",
    "sumflux = cv_data[:,2] + ps_data[:,1]\n",
    "sumerr = (cv_data[:,3]**2 + ps_data[:,2]**2)**0.5\n",
    "\n",
    "f = open(f'{workpath}/total_cxb_xissim_xi0.csv', 'w')\n",
    "f.write('region,area,cvflux,cvflux_err,ratio,psflux,psflux_err,cvportion,psportion,sumflux,sumflux_err,sumerr_ratio,suzaku_norm,suzaku_norm_err,suzaku_norm_hi,suzaku_norm_lo\\n')\n",
    "for i in range(len(regions)):\n",
    "    sum_norm = suzaku_norm(sumflux[i], cv_data[:,1][i])\n",
    "    sum_norm_err = suzaku_norm(sumerr[i], cv_data[:,1][i])\n",
    "    f.write(f'{cv_data[:,0][i]}, {cv_data[:,1][i]:.2f}, {cv_data[:,2][i]*1e15:.2f}, {cv_data[:,3][i]*1e15:.2f}, {cv_data[:,4][i]}, {ps_data[:,1][i]*1e15:.2f}, {ps_data[:,2][i]*1e15:.2f}, {cv_data[:,2][i]/sumflux[i]*100:.2f}%, {ps_data[:,1][i]/sumflux[i]*100:.2f}%, {sumflux[i]*1e15:.2f}, {sumerr[i]*1e15:.2f},{sum_norm_err/sum_norm*100:.2f}%, {sum_norm*1e4:.2f}, {sum_norm_err*1e4:.2f}, {(sum_norm + sum_norm_err)*1e4:.2f}, {(sum_norm - sum_norm_err)*1e4:.2f}\\n')\n",
    "f.write('NOTE: flux *1e-15, norm*1e-4')\n",
    "f.close()"
   ]
  },
  {
   "cell_type": "code",
   "execution_count": null,
   "metadata": {},
   "outputs": [],
   "source": []
  }
 ],
 "metadata": {
  "kernelspec": {
   "display_name": "Python 3.10.1 64-bit ('3.10.1')",
   "language": "python",
   "name": "python3"
  },
  "language_info": {
   "codemirror_mode": {
    "name": "ipython",
    "version": 3
   },
   "file_extension": ".py",
   "mimetype": "text/x-python",
   "name": "python",
   "nbconvert_exporter": "python",
   "pygments_lexer": "ipython3",
   "version": "3.10.1"
  },
  "orig_nbformat": 4,
  "vscode": {
   "interpreter": {
    "hash": "1302458d99d58fefb56dc0fec08d039cf240bdcae78a53a9226b7c46b3832fa1"
   }
  }
 },
 "nbformat": 4,
 "nbformat_minor": 2
}
