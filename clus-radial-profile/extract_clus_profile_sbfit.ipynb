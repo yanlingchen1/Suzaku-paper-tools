{
 "cells": [
  {
   "cell_type": "code",
   "execution_count": 12,
   "metadata": {},
   "outputs": [],
   "source": [
    "import sbfit \n",
    "import numpy as np\n",
    "from astropy.table import Table\n",
    "import matplotlib.pyplot as plt\n",
    "\n"
   ]
  },
  {
   "cell_type": "markdown",
   "metadata": {},
   "source": [
    "# sb profile and Fitting"
   ]
  },
  {
   "cell_type": "code",
   "execution_count": 3,
   "metadata": {},
   "outputs": [],
   "source": [
    "def DoubleBeta(x, beta, rc1, rc2, ratio, norm, const):\n",
    "    out = norm * (np.power(1 + (x / rc1) **2, -3 * beta + 0.5) + ratio * np.power(1 + (x / rc2) **2, -3 * beta + 0.5)) + const\n",
    "    return out\n",
    "def BetaModel(x, beta, rc, norm,const):\n",
    "    out = norm * np.power(1. + (x / rc) ** 2, -3. * beta + 0.5) + const\n",
    "    return out"
   ]
  },
  {
   "cell_type": "code",
   "execution_count": null,
   "metadata": {},
   "outputs": [],
   "source": []
  },
  {
   "cell_type": "code",
   "execution_count": 14,
   "metadata": {},
   "outputs": [
    {
     "name": "stdout",
     "output_type": "stream",
     "text": [
      "xmm, 0.5-7, A222\n"
     ]
    },
    {
     "ename": "KeyError",
     "evalue": "\"Keyword 'EXPOSURE' not found.\"",
     "output_type": "error",
     "traceback": [
      "\u001b[0;31m---------------------------------------------------------------------------\u001b[0m",
      "\u001b[0;31mKeyError\u001b[0m                                  Traceback (most recent call last)",
      "Cell \u001b[0;32mIn[14], line 13\u001b[0m\n\u001b[1;32m     11\u001b[0m reg_list \u001b[39m=\u001b[39m sbfit\u001b[39m.\u001b[39mread_region(\u001b[39mf\u001b[39m\u001b[39m\"\u001b[39m\u001b[39m{\u001b[39;00mpath\u001b[39m}\u001b[39;00m\u001b[39m/\u001b[39m\u001b[39m{\u001b[39;00mclus\u001b[39m}\u001b[39;00m\u001b[39m_\u001b[39m\u001b[39m{\u001b[39;00mins\u001b[39m}\u001b[39;00m\u001b[39m.reg\u001b[39m\u001b[39m\"\u001b[39m)\n\u001b[1;32m     12\u001b[0m \u001b[39mif\u001b[39;00m band \u001b[39m==\u001b[39m\u001b[39m'\u001b[39m\u001b[39m0.5-7\u001b[39m\u001b[39m'\u001b[39m:\n\u001b[0;32m---> 13\u001b[0m     obs \u001b[39m=\u001b[39m sbfit\u001b[39m.\u001b[39;49mObservation(\u001b[39mf\u001b[39;49m\u001b[39m'\u001b[39;49m\u001b[39m{\u001b[39;49;00mpath\u001b[39m}\u001b[39;49;00m\u001b[39m/\u001b[39;49m\u001b[39m{\u001b[39;49;00mband\u001b[39m}\u001b[39;49;00m\u001b[39m/EPIC_cts.img\u001b[39;49m\u001b[39m'\u001b[39;49m,\u001b[39mf\u001b[39;49m\u001b[39m'\u001b[39;49m\u001b[39m{\u001b[39;49;00mpath\u001b[39m}\u001b[39;49;00m\u001b[39m/../EPIC_exp_\u001b[39;49m\u001b[39m{\u001b[39;49;00mclus\u001b[39m}\u001b[39;49;00m\u001b[39mfilamsk_xmm.expmap\u001b[39;49m\u001b[39m'\u001b[39;49m,\u001b[39mf\u001b[39;49m\u001b[39m'\u001b[39;49m\u001b[39m{\u001b[39;49;00mpath\u001b[39m}\u001b[39;49;00m\u001b[39m/\u001b[39;49m\u001b[39m{\u001b[39;49;00mband\u001b[39m}\u001b[39;49;00m\u001b[39m/EPIC_bkg.img\u001b[39;49m\u001b[39m'\u001b[39;49m)\n\u001b[1;32m     14\u001b[0m \u001b[39melif\u001b[39;00m band \u001b[39m==\u001b[39m\u001b[39m'\u001b[39m\u001b[39m0.7-1.2\u001b[39m\u001b[39m'\u001b[39m:\n\u001b[1;32m     15\u001b[0m     obs \u001b[39m=\u001b[39m sbfit\u001b[39m.\u001b[39mObservation(\u001b[39mf\u001b[39m\u001b[39m'\u001b[39m\u001b[39m{\u001b[39;00mpath\u001b[39m}\u001b[39;00m\u001b[39m/\u001b[39m\u001b[39m{\u001b[39;00mband\u001b[39m}\u001b[39;00m\u001b[39m/EPIC_cts_700-1200.img\u001b[39m\u001b[39m'\u001b[39m,\u001b[39mf\u001b[39m\u001b[39m'\u001b[39m\u001b[39m{\u001b[39;00mpath\u001b[39m}\u001b[39;00m\u001b[39m/../EPIC_exp_700-1200_\u001b[39m\u001b[39m{\u001b[39;00mclus\u001b[39m}\u001b[39;00m\u001b[39mfilamsk_xmm.expmap\u001b[39m\u001b[39m'\u001b[39m,\u001b[39mf\u001b[39m\u001b[39m'\u001b[39m\u001b[39m{\u001b[39;00mpath\u001b[39m}\u001b[39;00m\u001b[39m/\u001b[39m\u001b[39m{\u001b[39;00mband\u001b[39m}\u001b[39;00m\u001b[39m/EPIC_bkg_700-1200.img\u001b[39m\u001b[39m'\u001b[39m)\n",
      "File \u001b[0;32m~/opt/miniconda3/lib/python3.9/site-packages/sbfit-0.2.1-py3.9.egg/sbfit/observation.py:51\u001b[0m, in \u001b[0;36mObservation.__init__\u001b[0;34m(self, cts_image_file, exp_image_file, bkg_image_file, bkg_norm_type, bkg_norm_keyword, extension)\u001b[0m\n\u001b[1;32m     49\u001b[0m \u001b[39mself\u001b[39m\u001b[39m.\u001b[39m_cts_image \u001b[39m=\u001b[39m CtsImage(cts_image_file, extension\u001b[39m=\u001b[39mextension)\n\u001b[1;32m     50\u001b[0m \u001b[39mself\u001b[39m\u001b[39m.\u001b[39m_exp_image \u001b[39m=\u001b[39m ExpImage(exp_image_file, extension\u001b[39m=\u001b[39mextension)\n\u001b[0;32m---> 51\u001b[0m \u001b[39mself\u001b[39m\u001b[39m.\u001b[39m_bkg_image \u001b[39m=\u001b[39m BkgImage(bkg_image_file, norm_type\u001b[39m=\u001b[39;49mbkg_norm_type,\n\u001b[1;32m     52\u001b[0m                            norm_keyword\u001b[39m=\u001b[39;49mbkg_norm_keyword,\n\u001b[1;32m     53\u001b[0m                            extension\u001b[39m=\u001b[39;49mextension)\n\u001b[1;32m     54\u001b[0m \u001b[39mif\u001b[39;00m \u001b[39mself\u001b[39m\u001b[39m.\u001b[39m_cts_image\u001b[39m.\u001b[39mshape \u001b[39m==\u001b[39m \u001b[39mself\u001b[39m\u001b[39m.\u001b[39m_exp_image\u001b[39m.\u001b[39mshape \\\n\u001b[1;32m     55\u001b[0m         \u001b[39mand\u001b[39;00m \u001b[39mself\u001b[39m\u001b[39m.\u001b[39m_cts_image\u001b[39m.\u001b[39mshape \u001b[39m==\u001b[39m \u001b[39mself\u001b[39m\u001b[39m.\u001b[39m_bkg_image\u001b[39m.\u001b[39mshape:\n\u001b[1;32m     56\u001b[0m     \u001b[39mpass\u001b[39;00m\n",
      "File \u001b[0;32m~/opt/miniconda3/lib/python3.9/site-packages/sbfit-0.2.1-py3.9.egg/sbfit/image.py:166\u001b[0m, in \u001b[0;36mBkgImage.__init__\u001b[0;34m(self, image, norm_keyword, norm_type, extension)\u001b[0m\n\u001b[1;32m    164\u001b[0m \u001b[39mself\u001b[39m\u001b[39m.\u001b[39m_norm_keyword \u001b[39m=\u001b[39m norm_keyword\n\u001b[1;32m    165\u001b[0m \u001b[39mself\u001b[39m\u001b[39m.\u001b[39m_norm_type \u001b[39m=\u001b[39m norm_type\n\u001b[0;32m--> 166\u001b[0m \u001b[39mself\u001b[39;49m\u001b[39m.\u001b[39;49m_load_parameter()\n",
      "File \u001b[0;32m~/opt/miniconda3/lib/python3.9/site-packages/sbfit-0.2.1-py3.9.egg/sbfit/image.py:181\u001b[0m, in \u001b[0;36mBkgImage._load_parameter\u001b[0;34m(self)\u001b[0m\n\u001b[1;32m    180\u001b[0m \u001b[39mdef\u001b[39;00m \u001b[39m_load_parameter\u001b[39m(\u001b[39mself\u001b[39m):\n\u001b[0;32m--> 181\u001b[0m     \u001b[39mself\u001b[39m\u001b[39m.\u001b[39m_exptime \u001b[39m=\u001b[39m \u001b[39mself\u001b[39;49m\u001b[39m.\u001b[39;49m_header[\u001b[39m'\u001b[39;49m\u001b[39mexposure\u001b[39;49m\u001b[39m'\u001b[39;49m]\n\u001b[1;32m    182\u001b[0m     \u001b[39mtry\u001b[39;00m:\n\u001b[1;32m    183\u001b[0m         \u001b[39mself\u001b[39m\u001b[39m.\u001b[39m_bkgnorm \u001b[39m=\u001b[39m \u001b[39mfloat\u001b[39m(\u001b[39mself\u001b[39m\u001b[39m.\u001b[39m_header[\u001b[39mself\u001b[39m\u001b[39m.\u001b[39m_norm_keyword])\n",
      "File \u001b[0;32m~/opt/miniconda3/lib/python3.9/site-packages/astropy/io/fits/header.py:156\u001b[0m, in \u001b[0;36mHeader.__getitem__\u001b[0;34m(self, key)\u001b[0m\n\u001b[1;32m    153\u001b[0m \u001b[39melse\u001b[39;00m:\n\u001b[1;32m    154\u001b[0m     keyword \u001b[39m=\u001b[39m key\n\u001b[0;32m--> 156\u001b[0m card \u001b[39m=\u001b[39m \u001b[39mself\u001b[39m\u001b[39m.\u001b[39m_cards[\u001b[39mself\u001b[39;49m\u001b[39m.\u001b[39;49m_cardindex(key)]\n\u001b[1;32m    158\u001b[0m \u001b[39mif\u001b[39;00m card\u001b[39m.\u001b[39mfield_specifier \u001b[39mis\u001b[39;00m \u001b[39mnot\u001b[39;00m \u001b[39mNone\u001b[39;00m \u001b[39mand\u001b[39;00m keyword \u001b[39m==\u001b[39m card\u001b[39m.\u001b[39mrawkeyword:\n\u001b[1;32m    159\u001b[0m     \u001b[39m# This is RVKC; if only the top-level keyword was specified return\u001b[39;00m\n\u001b[1;32m    160\u001b[0m     \u001b[39m# the raw value, not the parsed out float value\u001b[39;00m\n\u001b[1;32m    161\u001b[0m     \u001b[39mreturn\u001b[39;00m card\u001b[39m.\u001b[39mrawvalue\n",
      "File \u001b[0;32m~/opt/miniconda3/lib/python3.9/site-packages/astropy/io/fits/header.py:1753\u001b[0m, in \u001b[0;36mHeader._cardindex\u001b[0;34m(self, key)\u001b[0m\n\u001b[1;32m   1750\u001b[0m         indices \u001b[39m=\u001b[39m \u001b[39mself\u001b[39m\u001b[39m.\u001b[39m_rvkc_indices\u001b[39m.\u001b[39mget(keyword, \u001b[39mNone\u001b[39;00m)\n\u001b[1;32m   1752\u001b[0m \u001b[39mif\u001b[39;00m \u001b[39mnot\u001b[39;00m indices:\n\u001b[0;32m-> 1753\u001b[0m     \u001b[39mraise\u001b[39;00m \u001b[39mKeyError\u001b[39;00m(\u001b[39mf\u001b[39m\u001b[39m\"\u001b[39m\u001b[39mKeyword \u001b[39m\u001b[39m{\u001b[39;00mkeyword\u001b[39m!r}\u001b[39;00m\u001b[39m not found.\u001b[39m\u001b[39m\"\u001b[39m)\n\u001b[1;32m   1755\u001b[0m \u001b[39mtry\u001b[39;00m:\n\u001b[1;32m   1756\u001b[0m     \u001b[39mreturn\u001b[39;00m indices[n]\n",
      "\u001b[0;31mKeyError\u001b[0m: \"Keyword 'EXPOSURE' not found.\""
     ]
    }
   ],
   "source": [
    "datapath = '/Users/eusracenorth/Documents/suzaku_A222-223/profile_230302'\n",
    "for ins in [ 'xmm']:#'chandra',\n",
    "    for band in ['0.5-7', '0.7-1.2']:\n",
    "        for clus in ['A222','A223']:\n",
    "            print(f'{ins}, {band}, {clus}')\n",
    "            path = f'{datapath}/{ins}'\n",
    "            if ins=='chandra':\n",
    "                reg_list = sbfit.read_region(f\"{path}/{clus}_{ins}.reg\")\n",
    "                obs = sbfit.Observation(f'{path}/images/{band}_band1_thresh.img',f'{path}/../{band}_band1_thresh_{clus}filamsk_chan.expmap',f'{path}/images/{band}_band1_nxb_scaled.img')\n",
    "            elif ins=='xmm':\n",
    "                reg_list = sbfit.read_region(f\"{path}/{clus}_{ins}.reg\")\n",
    "                if band =='0.5-7':\n",
    "                    obs = sbfit.Observation(f'{path}/{band}/EPIC_cts.img',f'{path}/../EPIC_exp_{clus}filamsk_xmm.expmap',f'{path}/{band}/EPIC_bkg.img')\n",
    "                elif band =='0.7-1.2':\n",
    "                    obs = sbfit.Observation(f'{path}/{band}/EPIC_cts_700-1200.img',f'{path}/../EPIC_exp_700-1200_{clus}filamsk_xmm.expmap',f'{path}/{band}/EPIC_bkg_700-1200.img')\n",
    "                \n",
    "            obs_list = sbfit.ObservationList([obs])\n",
    "            pro = obs_list.get_profile(reg_list)\n",
    "            pro.rebin(1, 700, method=\"min_cts\", min_cts=70)\n",
    "            pro.plot(plot_type=\"Profile\")\n",
    "            beta = sbfit.model.custom_model(DoubleBeta)\n",
    "\n",
    "            pro.set_model(beta)\n",
    "            # set parameters\n",
    "            pro.model.norm = 1e-4\n",
    "            pro.model.beta = 0.6\n",
    "            pro.model.rc1 = 60\n",
    "            pro.model.rc2 = 10\n",
    "            pro.model.ratio = 1\n",
    "            pro.model.norm = 1e-4\n",
    "            pro.model.const = np.power(10.,-6.71)\n",
    "            # calculate model parameter\n",
    "            pro.calculate()\n",
    "            # plot the model profile together with the observed profile\n",
    "            pro.plot()\n",
    "            pro.model.norm.bounds = (5e-7, 1e-3)\n",
    "            pro.model.beta.bounds = (0.2, 0.9)\n",
    "            pro.model.rc1.bounds = (1, 200)\n",
    "            pro.model.rc2.bounds = (1, 200)\n",
    "            pro.model.ratio = (1e-5, 100)\n",
    "            pro.model.const.bounds = (1e-10, 1e-2)\n",
    "            pro.fit(show_step=False, show_result=True, tolerance=0.01)\n",
    "            pro.plot()\n",
    "            pro.binned_profile.write(f\"{datapath}/{ins}_{band}_{clus}_sbfit_profile.fits\", overwrite=True)\n"
   ]
  },
  {
   "cell_type": "markdown",
   "metadata": {},
   "source": []
  },
  {
   "cell_type": "code",
   "execution_count": null,
   "metadata": {},
   "outputs": [],
   "source": [
    "# plot sbfit data\n",
    "\n",
    "def BetaModel(x, beta, rc, norm):\n",
    "    out = norm * np.power(1. + (x / rc) ** 2, -3. * beta + 0.5) \n",
    "    return out\n",
    "\n",
    "data = Table.read(\"a223_sbfit_profile.fits\")\n",
    "fig, (ax1,ax2) = plt.subplots(2,1,figsize = (8,8), gridspec_kw={'height_ratios': [ 3, 1]})\n",
    "ax1.errorbar(data['r']/60, data['sb'], yerr = data['sb_error'], xerr = data['r_error_left']/60, label = 'data')\n",
    "ax1.errorbar(data['r']/60, data['bkg_sb'], yerr = data['bkg_sb_error'], xerr = data['r_error_left']/60, label = 'nxb')\n",
    "ax1.axvline(7, label = 'r200')\n",
    "ax1.axvline(5, label = 'r500')\n",
    "norm = 7.11e-05\n",
    "beta = 4.87e-01\n",
    "rc = 3.16e+01/60\n",
    "bkg = 1.00e-10\n",
    "y1 = BetaModel(data['r']/60, beta, rc, norm)\n",
    "ax1.set_title('sbfit a222, mincts 70, b/a = 0.73')\n",
    "ax1.plot(data['r']/60, y1, 'r-', label = 'sbfit')\n",
    "ax1.set_xlabel('r [arcmin]')\n",
    "ax1.set_ylabel('SB [$cts/s/arcmin^2$]')\n",
    "ax1.set_xscale('log')\n",
    "ax1.set_yscale('log')\n",
    "ax2.errorbar(data['r']/60, data['sb']-y1, yerr = (data['sb_error']**2 + data['bkg_sb_error']**2)**0.5, xerr = data['r_error_left']/60, fmt = '.')\n",
    "ax2.set_xscale('log')\n",
    "ax2.axhline(0, linestyle = '--', color = 'orange')\n",
    "# ax2.set_yscale('log')\n",
    "ax1.legend()\n",
    "plt.show()\n",
    "plt.close()\n"
   ]
  }
 ],
 "metadata": {
  "kernelspec": {
   "display_name": "Python 3.9.12 ('base')",
   "language": "python",
   "name": "python3"
  },
  "language_info": {
   "codemirror_mode": {
    "name": "ipython",
    "version": 3
   },
   "file_extension": ".py",
   "mimetype": "text/x-python",
   "name": "python",
   "nbconvert_exporter": "python",
   "pygments_lexer": "ipython3",
   "version": "3.9.16"
  },
  "orig_nbformat": 4,
  "vscode": {
   "interpreter": {
    "hash": "c466582213e02155f80f1eed887bcfed0f9ced71945fa213689e7d748be4ec79"
   }
  }
 },
 "nbformat": 4,
 "nbformat_minor": 2
}
