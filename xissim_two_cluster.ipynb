{
 "cells": [
  {
   "cell_type": "code",
   "execution_count": 4,
   "metadata": {},
   "outputs": [],
   "source": [
    "import numpy as np\n",
    "import matplotlib.pyplot as plt\n",
    "from tqdm import tqdm\n",
    "from glob import glob\n",
    "from astropy.io import fits\n",
    "import os"
   ]
  },
  {
   "cell_type": "code",
   "execution_count": null,
   "metadata": {},
   "outputs": [],
   "source": [
    "def basic_figure_style():\n",
    "    SMALL_SIZE = 5*4                                       \n",
    "    MEDIUM_SIZE = 8*2\n",
    "    BIGGER_SIZE = 10*4\n",
    "\n",
    "    plt.rc('font', size=MEDIUM_SIZE, family='serif')          # controls default text sizes\n",
    "    plt.rc('axes', titlesize=MEDIUM_SIZE)                     # fontsize of the axes title\n",
    "    plt.rc('axes', labelsize=MEDIUM_SIZE)                    # fontsize of the x and y labels\n",
    "    plt.rc('xtick', labelsize=MEDIUM_SIZE, direction='out')    # fontsize of the tick labels\n",
    "    plt.rc('ytick', labelsize=MEDIUM_SIZE, direction='out')    # fontsize of the tick labels\n",
    "    plt.rc('legend', fontsize=MEDIUM_SIZE)                    # legend fontsize\n",
    "    plt.rc('figure', titlesize=BIGGER_SIZE)                  # fontsize of the figure title\n",
    "    plt.rc('lines', linewidth=3) \n",
    "    plt.rc('axes', grid=True) #\n",
    "    plt.rc('grid', alpha=0.7) #\n",
    "    plt.rc('xtick', top=True)\n",
    "    plt.rc('ytick', right=True)\n",
    "    plt.rc('axes.formatter', use_mathtext=True, min_exponent=4, useoffset=False)\n",
    "    plt.rc('figure', figsize='6, 6')                         # size of the figure, used to be '4, 3' in inches\n",
    "    ######################################################\n",
    "basic_figure_style()\n"
   ]
  },
  {
   "cell_type": "markdown",
   "metadata": {},
   "source": [
    "# 1. create sb image of suzaku based on fitted double beta (no bkg) profile"
   ]
  },
  {
   "cell_type": "markdown",
   "metadata": {},
   "source": [
    "define models"
   ]
  },
  {
   "cell_type": "code",
   "execution_count": null,
   "metadata": {},
   "outputs": [],
   "source": [
    "def DoubleBeta(x, beta, rc1, rc2, ratio, norm, const):\n",
    "    out = np.power(10,norm) * (np.power(1 + (x / rc1) **2, -3 * beta + 0.5) + ratio * np.power(1 + (x / rc2) **2, -3 * beta + 0.5)) + np.power(10,const)\n",
    "    return out\n",
    "def DoubleBeta_nobkg(x, beta, rc1, rc2, ratio, norm):\n",
    "    out = np.power(10,norm) * (np.power(1 + (x / rc1) **2, -3 * beta + 0.5) + ratio * np.power(1 + (x / rc2) **2, -3 * beta + 0.5)) \n",
    "    return out\n",
    "def BetaModel(x, beta, rc, norm,const):\n",
    "    out = np.power(10,norm) * np.power(1. + (x / rc) ** 2, -3. * beta + 0.5) + np.power(10,const)\n",
    "    return out"
   ]
  },
  {
   "cell_type": "markdown",
   "metadata": {},
   "source": [
    "create sb profile image in suzaku"
   ]
  },
  {
   "cell_type": "code",
   "execution_count": null,
   "metadata": {},
   "outputs": [],
   "source": [
    "workdir = '/Users/eusracenorth/Documents/suzaku_A222-223/profile_230302/xissim/230319'\n",
    "\n",
    "datapath = '/Users/eusracenorth/Documents/suzaku_A222-223/profile_230302/results_230305'\n",
    "os.chdir(workdir)\n",
    "# a222\n",
    "radec_lst = {'A222':[24.3941937,-12.9933436], \"A223\":[24.4830446,-12.8203439]}\n",
    "# at 0.5-7 keV band\n",
    "rs = {'A222':1.2*5, \"A223\":1.2*5.6}\n",
    "clus = 'A222'\n",
    "with fits.open(f'{workdir}/{clus}_0.5-7_chan_Doublebeta_nobkg.fits') as hdul:\n",
    "    sum_data = np.zeros(hdul[0].data.shape)\n",
    "for clus in ['A222', 'A223']:\n",
    "    file = glob(f'{datapath}/{clus}*chan*0.5-7*doublebeta*profile.fits')[0]\n",
    "    annu = np.arange(rs[clus],step=1/300)\n",
    "    hdul = fits.open(file)\n",
    "    mdl = hdul[2].data\n",
    "    sb = DoubleBeta_nobkg(annu, mdl['VALUE'][0], mdl['VALUE'][1], mdl['VALUE'][2], mdl['VALUE'][3], mdl['VALUE'][4])\n",
    "    fig, ax = plt.subplots(1, 1, figsize = (6, 4))\n",
    "    plt.plot(annu,np.log10(sb))\n",
    "    plt.xscale('log')\n",
    "    plt.xlabel('radius')\n",
    "    plt.ylabel('sb')\n",
    "    # convert radec to ij (image)\n",
    "    crval1 = 24.4438\n",
    "    crval2 = -12.9141\n",
    "    cdelt1 = -2.316e-3\n",
    "    cdelt2 = 2.316e-3\n",
    "    crpix1 = 96.5\n",
    "    crpix2 = 96.5\n",
    "    img = np.zeros((192,192))\n",
    "    def radec2ij(ra,dec):\n",
    "        i = (ra - crval1)*np.cos(crval2)/cdelt1+crpix2 \n",
    "        j = (dec - crval2)/cdelt2+crpix1\n",
    "        return i,j\n",
    "    ic,jc = radec2ij(radec_lst[clus][0],radec_lst[clus][1])\n",
    "    print(\"center_i,center_j :\",int(ic),int(jc))\n",
    "    annu_pix = annu/60/cdelt2\n",
    "    [i_arr, j_arr, sb_arr] = [[] for i in range(3)]\n",
    "    for i in tqdm(range(len(img[0]))):\n",
    "        for j in range(len(img[1])):\n",
    "            r = np.sqrt((i-int(ic))**2+(j-int(jc))**2)\n",
    "            inds = np.digitize(r,annu_pix)\n",
    "            if inds<=len(annu_pix)-1:\n",
    "                img[i][j] = (sb[inds]+sb[inds-1])/2\n",
    "                i_arr.append(i)\n",
    "                j_arr.append(j)\n",
    "                sb_arr = (sb[inds]+sb[inds-1])/2\n",
    "            else:\n",
    "                img[i][j] = 0\n",
    "\n",
    "\n",
    "    fig2 = plt.figure(figsize=(6, 6))\n",
    "    # plt.imshow(np.log10(img.T),origin=\"lower\") #,extent=[0,192,0,192]\n",
    "    os.system(f'cp {workdir}/../xissim_230306/{clus}_0.5-7_chan_Doublebeta_nobkg.fits {clus}_0.5-7_chan_Doublebeta_nobkg.fits')\n",
    "    with fits.open(f'{workdir}/{clus}_0.5-7_chan_Doublebeta_nobkg.fits', mode='update') as hdul:\n",
    "        hdul[0].data = img.T\n",
    "        hdul.flush()\n",
    "    sum_data += img.T\n",
    "os.system(f'cp {workdir}/../xissim_230306/SUM_0.5-7_chan_Doublebeta_nobkg.fits SUM_0.5-7_chan_Doublebeta_nobkg.fits')\n",
    "with fits.open(f'{workdir}/SUM_0.5-7_chan_Doublebeta_nobkg.fits', mode='update') as hdul:\n",
    "    hdul[0].data = sum_data\n",
    "    hdul.flush()"
   ]
  },
  {
   "cell_type": "markdown",
   "metadata": {},
   "source": [
    "check the xissim sb input images "
   ]
  },
  {
   "cell_type": "code",
   "execution_count": null,
   "metadata": {},
   "outputs": [],
   "source": [
    "# from astropy.visualization import astropy_mpl_style\n",
    "import matplotlib.colors as colors\n",
    "# plt.style.use(astropy_mpl_style)\n",
    "plt.style.use('default')\n",
    "from astropy.utils.data import get_pkg_data_filename\n",
    "from astropy.wcs import WCS\n",
    "from astropy.convolution import convolve\n",
    "from astropy.convolution import Gaussian2DKernel\n",
    "import pyregion\n",
    "\n",
    "from matplotlib.patches import Annulus, Circle\n",
    "\n",
    "kernel = Gaussian2DKernel(x_stddev=1)\n",
    "# 'EPN_corr_counts'\n",
    "clus = 'SUM'\n",
    "file = f\"{workdir}/{clus}_0.5-7_chan_Doublebeta_nobkg.fits\"\n",
    "hdu = fits.open(f'{file}')[0]\n",
    "image_data = hdu.data\n",
    "print(image_data.shape)\n",
    "fig= plt.figure(figsize = (6,6))\n",
    "ax = fig.add_axes([0.1, 0.1, 0.8, 0.8], projection=WCS(f'{file}'))\n",
    "ra = ax.coords[0]\n",
    "dec = ax.coords[1]\n",
    "# plt.grid(color='grey', ls='dashed')\n",
    "plt.grid('off')\n",
    "ra.set_axislabel('RA')\n",
    "dec.set_axislabel('Dec')\n",
    "image_data = np.where(np.isfinite(np.log10(image_data)), image_data, np.nan)\n",
    "# astropy_conv = convolve(image_data, kernel)\n",
    "\n",
    "plt.imshow(image_data, cmap='gnuplot2', norm = colors.LogNorm(), origin='lower')\n",
    "\n",
    "# plot regions\n",
    "centers = {'A222':(117.37057,62.28223),'A223':(79.977412,136.98069)}\n",
    "annu_rs = {'A222':(7.1963155,17.990789,25.187104,35.981577,50.374208),'A223':(7.1963155,14.392631,21.588946,39.579735,57.570524)}\n",
    "for clus in ['A222', 'A223']:\n",
    "    print(len(annu_rs[clus])-1)\n",
    "    for i in range(len(annu_rs[clus])-1):\n",
    "        annu = Annulus(centers[clus], annu_rs[clus][i+1], annu_rs[clus][i+1]-annu_rs[clus][i], fill=False, edgecolor='k')\n",
    "        ax.add_patch(annu)\n",
    "werner_16 = Circle((99.151553,102.58805),11.514105, fill=False, edgecolor = 'cyan')\n",
    "ax.add_patch(werner_16)\n",
    "# plt.colorbar()\n",
    "\n",
    "plt.savefig(f'{file.split(\".\")[0]}.pdf', dpi=300)\n",
    "plt.show()\n",
    "plt.clf()\n"
   ]
  },
  {
   "cell_type": "markdown",
   "metadata": {},
   "source": [
    "# 2. run xissim"
   ]
  },
  {
   "cell_type": "code",
   "execution_count": null,
   "metadata": {},
   "outputs": [],
   "source": [
    "workdir = '/Users/eusracenorth/Documents/suzaku_A222-223/profile_230302/xissim/230319'\n",
    "os.makedirs('region', exist_ok=True)\n",
    "os.makedirs('evts', exist_ok=True)\n",
    "os.makedirs('qdps', exist_ok=True)\n",
    "os.makedirs('photons', exist_ok=True)\n",
    "os.makedirs('pdf', exist_ok=True)\n",
    "os.makedirs('results', exist_ok=True)\n",
    "os.makedirs('results/images', exist_ok=True)\n",
    "os.makedirs('spec_regions', exist_ok=True)"
   ]
  },
  {
   "cell_type": "markdown",
   "metadata": {},
   "source": [
    "1. cut profile.fits to annulus "
   ]
  },
  {
   "cell_type": "code",
   "execution_count": null,
   "metadata": {
    "vscode": {
     "languageId": "shellscript"
    }
   },
   "outputs": [],
   "source": [
    "\n",
    "\n",
    "for clus in A222 A223\n",
    "do\n",
    "for y in 1 2 \n",
    "do\n",
    "export root=annu_${clus}_${y}\n",
    "ftimgcalc region/${root}.fits 'regfilter(\"region/${root}.reg\",A.P1,A.P2) ? (1):(0)' a=A222_0.5-7_chan_Doublebeta_nobkg.fits clobber=yes\n",
    "farith ${clus}_0.5-7_chan_Doublebeta_nobkg.fits region/${root}.fits ${clus}_${root}_inputimg.fits  \"*\" clobber=yes\n",
    "done\n",
    "done\n"
   ]
  },
  {
   "cell_type": "markdown",
   "metadata": {},
   "source": [
    "2. save apec mdl as .qdp file, for 0.5-7 keV"
   ]
  },
  {
   "cell_type": "code",
   "execution_count": null,
   "metadata": {
    "vscode": {
     "languageId": "shellscript"
    }
   },
   "outputs": [],
   "source": [
    "cp /Users/eusracenorth/Documents/suzaku_A222-223/suzaku_data/xissim/230106/a22*_apec.csv ."
   ]
  },
  {
   "cell_type": "markdown",
   "metadata": {},
   "source": [
    "2. change the T and n csv"
   ]
  },
  {
   "cell_type": "code",
   "execution_count": null,
   "metadata": {},
   "outputs": [],
   "source": [
    "workdir = '/Users/eusracenorth/Documents/suzaku_A222-223/profile_230302/xissim/230319'\n",
    "os.chdir(workdir)\n",
    "f = open(f'{workdir}/logs/T_n.logs')\n",
    "lines = f.readlines()\n",
    "i =0\n",
    "Ts = np.zeros(3*3*2+3)\n",
    "Terr = np.zeros(3*3*2+3)\n",
    "ns = np.zeros(3*3*2+3)\n",
    "nerr = np.zeros(3*3*2+3)\n",
    "for j, line in enumerate(lines):\n",
    "    if 'kT' in line:   \n",
    "        Ts[i] =  float(line.split('keV')[-1].split('+/-')[0])\n",
    "        Terr[i] =  float(line.split('keV')[-1].split('+/-')[-1] )\n",
    "        ns[i] =  float(lines[j+1].split('norm')[-1].split('+/-')[0])\n",
    "        nerr[i] =  float(lines[j+1].split('norm')[-1].split('+/-')[-1])\n",
    "        i +=1\n",
    "f.close()\n",
    "\n",
    "for k, i in enumerate([2,3]):\n",
    "    newf = open(f'a22{i}_const_apec.csv', 'w')\n",
    "    newf.write(f'region, T, n, Tlo, nlo, Thi, nhi\\n')\n",
    "    for j, region in enumerate([f'annu_A22{i}_1', f'annu_A22{i}_2']):\n",
    "        newf.write(f'{region}, {Ts[k*9+j*3]}, {ns[k*9+j*3]},\\\n",
    "{Ts[k*9+j*3+1]-Terr[k*9+j*3+1]},  {ns[k*9+j*3+1]-nerr[k*9+j*3+1]}, \\\n",
    "{Ts[k*9+j*3+2]+Terr[k*9+j*3+2]}, {ns[k*9+j*3+2]+nerr[k*9+j*3+2]}\\n')\n",
    "newf.close()"
   ]
  },
  {
   "cell_type": "code",
   "execution_count": null,
   "metadata": {
    "vscode": {
     "languageId": "shellscript"
    }
   },
   "outputs": [],
   "source": [
    "rm inputs/*T*\n",
    "for j in 2 3\n",
    "do\n",
    "for i in 2 3 \n",
    "do\n",
    "export root=a22${j}_const_apec\n",
    "head -n ${i} ${root}.csv | tail -n 1| cut -d , -f 2 | read T\n",
    "head -n ${i} ${root}.csv | tail -n 1| cut -d , -f 3 | read n\n",
    "export i=$(expr ${i} - 1)\n",
    "export output=inputs/a22${j}_tbabs_apec_annu_${i}_T\n",
    "xspec << EOT\n",
    "log >${output}.log\n",
    "mo tbabs*apec\n",
    "0.0162\n",
    "${T}\n",
    "0.3\n",
    "0.21\n",
    "${n}\n",
    "flux 0.6 7\n",
    "ipl mo\n",
    "we ${output}\n",
    "log none\n",
    "exit\n",
    "exit\n",
    "no\n",
    "EOT\n",
    "done\n",
    "done\n",
    "\n",
    "rm inputs/*Tlo*\n",
    "for j in 2 3\n",
    "do\n",
    "for i in 2 3\n",
    "do\n",
    "export root=a22${j}_const_apec\n",
    "head -n ${i} ${root}.csv | tail -n 1| cut -d , -f 4 | read T\n",
    "head -n ${i} ${root}.csv | tail -n 1| cut -d , -f 5 | read n\n",
    "export i=$(expr ${i} - 1)\n",
    "export output=inputs/a22${j}_tbabs_apec_annu_${i}_Tlo\n",
    "xspec << EOT\n",
    "log >${output}.log\n",
    "mo tbabs*apec\n",
    "0.0162\n",
    "$T\n",
    "0.3\n",
    "0.21\n",
    "$n\n",
    "flux 0.6 7\n",
    "ipl mo\n",
    "we ${output}\n",
    "log none\n",
    "exit\n",
    "exit\n",
    "no\n",
    "EOT\n",
    "done\n",
    "done\n",
    "\n",
    "for j in 2 3\n",
    "do\n",
    "for i in 2 3 \n",
    "do\n",
    "export root=a22${j}_const_apec\n",
    "head -n ${i} ${root}.csv | tail -n 1| cut -d , -f 6 | read T\n",
    "head -n ${i} ${root}.csv | tail -n 1| cut -d , -f 7 | read n\n",
    "export i=$(expr ${i} - 1)\n",
    "export output=inputs/a22${j}_tbabs_apec_annu_${i}_Thi\n",
    "xspec << EOT\n",
    "log >${output}.log\n",
    "mo tbabs*apec\n",
    "0.0162\n",
    "${T}\n",
    "0.3\n",
    "0.21\n",
    "${n}\n",
    "flux 0.6 7\n",
    "ipl mo\n",
    "we ${output}\n",
    "log none\n",
    "exit\n",
    "exit\n",
    "no\n",
    "EOT\n",
    "done\n",
    "done"
   ]
  },
  {
   "cell_type": "markdown",
   "metadata": {},
   "source": [
    "3. extract photon flux from apec model, and scale it with annulus region"
   ]
  },
  {
   "cell_type": "code",
   "execution_count": null,
   "metadata": {},
   "outputs": [],
   "source": [
    "r_a222 = np.array([0, 2, 4, 5.5])\n",
    "r_a223 = np.array([0, 2, 4, 6])\n",
    "a222_reg_area = np.diff(r_a222**2) * 3.14/400/3.14\n",
    "a223_reg_area = np.diff(r_a223**2) * 3.14/400/3.14\n",
    "\n",
    "os.chdir(f'{workdir}/inputs')\n",
    "for k in [2,3]:\n",
    "\tfor type in ['T','Tlo','Thi']:\n",
    "\t\tnewfilename = f'a22{k}_tbabs_apec_{type}_phflux_scalereg.log'\n",
    "\t\tnewf = open(newfilename,'w')\n",
    "\t\tfor i in [1,2]:\n",
    "\t\t\tf = open(f'a22{k}_tbabs_apec_annu_{i}_{type}.log')\n",
    "\t\t\tlines = f.readlines()\n",
    "\t\t\tfor line in lines:\n",
    "\t\t\t\tif 'photons' in line:\n",
    "\t\t\t\t\tif k==2:\n",
    "\t\t\t\t\t\tflux = line.split('Flux')[-1].split('photons')[0].strip()\n",
    "\t\t\t\t\t\tprint(float(flux),float(flux) * a222_reg_area[i-1], a222_reg_area[i-1])\n",
    "\t\t\t\t\t\tnewf.write(f'{float(flux) * a222_reg_area[i-1]}\\n')\n",
    "\t\t\t\t\telif k==3:\n",
    "\t\t\t\t\t\tflux = line.split('Flux')[-1].split('photons')[0].strip()\n",
    "\t\t\t\t\t\tprint(float(flux),float(flux) * a223_reg_area[i-1], a223_reg_area[i-1])\n",
    "\t\t\t\t\t\tnewf.write(f'{float(flux) * a223_reg_area[i]}\\n')\n",
    "\t\t\t\t\telse:\n",
    "\t\t\t\t\t\traise ValueError('Filename is wrong?')\n",
    "\t\t\tf.close()\n",
    "\tnewf.close()\n",
    "# ->output: *_phflux_scalereg.log\n"
   ]
  },
  {
   "cell_type": "markdown",
   "metadata": {},
   "source": [
    "make photon list"
   ]
  },
  {
   "cell_type": "code",
   "execution_count": null,
   "metadata": {
    "vscode": {
     "languageId": "shellscript"
    }
   },
   "outputs": [],
   "source": [
    "for k in 2 3\n",
    "do\n",
    "for i in 1 2 \n",
    "do\n",
    "for type in T Tlo Thi\n",
    "do\n",
    "export root=a22${k}_tbabs_apec\n",
    "head -n ${i} inputs/${root}_${type}_phflux_scalereg.log| tail -n 1 | read f\n",
    "\n",
    "mkphlist photon_flux=${f} flux_emin=0.6 flux_emax=7 spec_mode=0 qdp_spec_file=inputs/${root}_annu_${i}_${type}.qdp image_mode=0 fits_image_file=inputs/A22${k}_annu_A22${k}_${i}_inputimg.fits time_mode=1 limit_mode=1 exposure=82000 outfile=inputs/${root}_${i}_${type}.photon \n",
    "done\n",
    "done\n",
    "done\n"
   ]
  },
  {
   "cell_type": "markdown",
   "metadata": {},
   "source": [
    "xissim run"
   ]
  },
  {
   "cell_type": "code",
   "execution_count": null,
   "metadata": {},
   "outputs": [],
   "source": [
    "'cp /Users/eusracenorth/Documents/suzaku_A222-223/suzaku_data/xissim/230106/*.rmf inputs/'"
   ]
  },
  {
   "cell_type": "code",
   "execution_count": null,
   "metadata": {},
   "outputs": [],
   "source": [
    "'''\n",
    "for x in 0 1 3\n",
    "do\n",
    "for k in 2 3\n",
    "do\n",
    "for i in 1 2 \n",
    "do\n",
    "for type in T Tlo Thi\n",
    "do\n",
    "export root=a22${k}_tbabs_apec_${i}_${type}\n",
    "xissim clobber=yes instrume=XIS${x} ea1=24.443784053014 ea2=102.914101952946 ea3=225.000493684051 infile1=inputs/${root}.photon infile2=none date_obs=\"2010-12-25T03:51:59\" xis_rmffile=inputs/xis${x}.rmf xis_contamifile=/Users/eusracenorth/Downloads/caldb/data/suzaku/xis/bcf/ae_xi${x}_contami_20091201.fits outfile=evts/${root}_xi${x}.evt\n",
    "done\n",
    "done\n",
    "done\n",
    "done\n",
    "'''"
   ]
  },
  {
   "cell_type": "markdown",
   "metadata": {},
   "source": [
    "# 3. postprocess"
   ]
  },
  {
   "cell_type": "markdown",
   "metadata": {},
   "source": [
    "extract images for every annulus"
   ]
  },
  {
   "cell_type": "code",
   "execution_count": null,
   "metadata": {},
   "outputs": [],
   "source": [
    "'''\n",
    "for x in 0 1 3\n",
    "do\n",
    "for k in 2 3\n",
    "do\n",
    "for i in 1 2 \n",
    "do\n",
    "for type in T Tlo Thi\n",
    "do\n",
    "export evt=a22${k}_tbabs_apec_${i}_${type}_xi${x}\n",
    "xselect << EOT\n",
    "a222\n",
    "set datadir evts/\n",
    "read events ${evt}.evt\n",
    "extract ima\n",
    "save ima results/images/${evt}_img.fits\n",
    "no\n",
    "exit\n",
    "no\n",
    "EOT\n",
    "done\n",
    "done\n",
    "done\n",
    "done\n",
    "'''"
   ]
  },
  {
   "cell_type": "markdown",
   "metadata": {},
   "source": [
    "extract spectrums for every annulus "
   ]
  },
  {
   "cell_type": "code",
   "execution_count": null,
   "metadata": {},
   "outputs": [],
   "source": [
    "'''\n",
    "for x in 0 1 3\n",
    "do\n",
    "for k in 2 3\n",
    "do\n",
    "for i in 1 2 3 4 5 out\n",
    "do\n",
    "for j in 1 2 3 4 5 out\n",
    "do\n",
    "for type in obs \n",
    "do\n",
    "export evt=a22${k}_tbabs_apec_annu_${i}_${type}_xi${x}\n",
    "export root=a22${k}_annu_${j}\n",
    "xselect << EOT\n",
    "a222\n",
    "set datadir evts/\n",
    "read events ${evt}.evt\n",
    "filter region region/${root}.reg\n",
    "extract spectrum\n",
    "save spectrum results/spectrums/${evt}_${root}.pha\n",
    "no\n",
    "exit\n",
    "no\n",
    "EOT\n",
    "\n",
    "done\n",
    "done\n",
    "done\n",
    "done\n",
    "done\n",
    "'''"
   ]
  },
  {
   "cell_type": "markdown",
   "metadata": {},
   "source": [
    "1. extract spectrums for werner region"
   ]
  },
  {
   "cell_type": "code",
   "execution_count": null,
   "metadata": {},
   "outputs": [],
   "source": [
    "'''\n",
    "for x in 0 1 3\n",
    "do\n",
    "for k in 2 3\n",
    "do\n",
    "for i in 1 2 3 4 5 out\n",
    "do\n",
    "for type in obs \n",
    "do\n",
    "export evt=a22${k}_tbabs_apec_annu_${i}_${type}_xi${x}\n",
    "export root=werner_fila_1.6\n",
    "\n",
    "xselect << EOT\n",
    "a222\n",
    "set datadir evts/\n",
    "read events ${evt}.evt\n",
    "filter region region/${root}.reg\n",
    "extract spectrum\n",
    "save spectrum results/spectrums/${evt}_${root}.pha\n",
    "no\n",
    "exit\n",
    "no\n",
    "EOT\n",
    "\n",
    "done\n",
    "done\n",
    "done\n",
    "done\n",
    "'''"
   ]
  },
  {
   "cell_type": "markdown",
   "metadata": {},
   "source": [
    "extract ctr from spectra"
   ]
  },
  {
   "cell_type": "code",
   "execution_count": null,
   "metadata": {},
   "outputs": [],
   "source": [
    "'''\n",
    "for x in 0 1 3\n",
    "do\n",
    "for k in 2 3\n",
    "do\n",
    "for i in 1 2 3 4 5 out\n",
    "do\n",
    "for type in obs \n",
    "do\n",
    "\n",
    "export evt=a22${k}_tbabs_apec_annu_${i}_${type}_xi${x}\n",
    "export reg=werner_fila_1.6\n",
    "xspec << EOT\n",
    "log >results/logs/${evt}_${root}_ctr.log\n",
    "data results/spectrums/${evt}_${reg}.pha\n",
    "res inputs/xis${x}.rmf\n",
    "sho rate\n",
    "log none\n",
    "EOT\n",
    "\n",
    "done\n",
    "done\n",
    "done\n",
    "done\n",
    "'''\n",
    "\n",
    "'''\n",
    "for x in 0 1 3\n",
    "do\n",
    "for k in 2 3\n",
    "do\n",
    "for i in 1 2 3 4 5\n",
    "do\n",
    "for type in obs\n",
    "do\n",
    "\n",
    "export evt=a22${k}_tbabs_apec_annu\n",
    "export root=werner_fila_1.6\n",
    "tail -n 6 results/logs/${evt}_${i}_${type}_xi${x}_${root}_ctr.log | head -n 1 >>results/logs/${evt}_${type}_xi${x}_${root}_ctr_man.log\n",
    "\n",
    "done\n",
    "done\n",
    "done\n",
    "done\n",
    "'''\n"
   ]
  },
  {
   "cell_type": "code",
   "execution_count": null,
   "metadata": {},
   "outputs": [],
   "source": [
    "err = np.array([2.198E-05 , 2.198E-05, 3.108E-05, 8.583E-05, 6.501E-05])\n",
    "np.sqrt((err**2).sum())"
   ]
  },
  {
   "cell_type": "markdown",
   "metadata": {},
   "source": [
    "# 4. merge images again for sanity check"
   ]
  },
  {
   "cell_type": "code",
   "execution_count": 9,
   "metadata": {},
   "outputs": [],
   "source": [
    "\n",
    "workdir = '/Users/eusracenorth/Documents/suzaku_A222-223/profile_230302/xissim/230319'\n",
    "path = f'{workdir}/results/images'\n",
    "os.chdir(path)\n",
    "os.system('rm SUM*fits')\n",
    "for ins in [0,1,3]:\n",
    "    for type in ['T', 'Thi', 'Tlo']:\n",
    "        files = glob(f'*_{type}_*xi{ins}*')\n",
    "        hdu = fits.open(files[0])\n",
    "        sum_data = np.zeros(hdu[0].data.shape)\n",
    "        for f in files:\n",
    "            hdu = fits.open(f)\n",
    "            sum_data += hdu[0].data\n",
    "        os.system(f'cp {files[0]} SUM_tbabs_apec_{type}_xi{ins}.fits')\n",
    "        with fits.open(f'SUM_tbabs_apec_{type}_xi{ins}.fits', mode='update') as hdul:\n",
    "            hdul[0].data = sum_data\n",
    "            hdul.flush()\n",
    "    "
   ]
  },
  {
   "cell_type": "markdown",
   "metadata": {},
   "source": [
    "get cts from spectrum extract regions"
   ]
  },
  {
   "cell_type": "code",
   "execution_count": 19,
   "metadata": {},
   "outputs": [],
   "source": [
    "# make masks for regions\n",
    "regpath = '/Users/eusracenorth/Documents/suzaku_A222-223/suzaku_data/spectras/spectras_230317/regions_230317'\n",
    "simpath = path\n",
    "\n",
    "from glob import glob\n",
    "os.chdir(regpath)\n",
    "reglist = glob('*.reg')\n",
    "newf = open(f'{regpath}/make_masks.sh', 'w')\n",
    "for reg in reglist:\n",
    "    name = reg.split('.')[0]\n",
    "    newf.write(f\"ftimgcalc regions_230317/{name}.fits 'regfilter(\\\"regions_230317/{name}.reg\\\",A.P1,A.P2) ? (1):(0)' a={simpath}/SUM_tbabs_apec_obs_xi0.fits clobber=yes\\n\")\n",
    "newf.close()\n"
   ]
  },
  {
   "cell_type": "code",
   "execution_count": 14,
   "metadata": {},
   "outputs": [],
   "source": [
    "# farith mask with sum image\n",
    "regpath = '/Users/eusracenorth/Documents/suzaku_A222-223/suzaku_data/spectras/spectras_230317/regions_230317'\n",
    "simpath = path\n",
    "\n",
    "os.chdir(regpath)\n",
    "reglist = glob('*.fits')\n",
    "# reglist = ['werner_fila_1.6.fits', 'bkg_230309.fits']\n",
    "newf = open(f'{simpath}/../../ext_annu_img.sh', 'w')\n",
    "for x in [0,1,3]:\n",
    "    for type in ['T', 'Thi', 'Tlo']:\n",
    "    # for i in [1,2]:\n",
    "        for j in [2,3]:\n",
    "            name = f'annu_A22{j}_3_xis{x}'\n",
    "            newf.write(f'farith {regpath}/{name}.fits {simpath}/SUM_tbabs_apec_{type}_xi{x}.fits {simpath}/annu_img/sum_xis{x}_{type}_{name}.fits \"*\"\\n')\n",
    "        name = 'fila_box'\n",
    "        newf.write(f'farith {regpath}/{name}.fits {simpath}/SUM_tbabs_apec_{type}_xi{x}.fits {simpath}/annu_img/sum_xis{x}_{type}_{name}.fits \"*\"\\n')\n",
    "\n",
    "newf.close()"
   ]
  },
  {
   "cell_type": "code",
   "execution_count": null,
   "metadata": {
    "vscode": {
     "languageId": "shellscript"
    }
   },
   "outputs": [],
   "source": [
    "cd /Users/eusracenorth/Documents/suzaku_A222-223/profile_230302/xissim/230319/results/images/annu_img\n",
    "for x in 0 1 3\n",
    "do\n",
    "rm sum_xis${x}.log\n",
    "for j in 2 3\n",
    "do\n",
    "for type in T Tlo Thi\n",
    "do\n",
    "export root=sum_xis${x}_${type}_annu_A22{j}_3_xis{x}\n",
    "fimgstat ${root}.fits INDEF INDEF >> sum_xis${x}_${type}.log\n",
    "done\n",
    "fimgstat sumsrc_xis${x}_${type}_fila_box.fits INDEF INDEF >> sum_xis${x}_${type}.log\n",
    "done\n",
    "done\n",
    "\n"
   ]
  }
 ],
 "metadata": {
  "kernelspec": {
   "display_name": "Python 3.9.15 ('base')",
   "language": "python",
   "name": "python3"
  },
  "language_info": {
   "codemirror_mode": {
    "name": "ipython",
    "version": 3
   },
   "file_extension": ".py",
   "mimetype": "text/x-python",
   "name": "python",
   "nbconvert_exporter": "python",
   "pygments_lexer": "ipython3",
   "version": "3.9.16"
  },
  "orig_nbformat": 4,
  "vscode": {
   "interpreter": {
    "hash": "c466582213e02155f80f1eed887bcfed0f9ced71945fa213689e7d748be4ec79"
   }
  }
 },
 "nbformat": 4,
 "nbformat_minor": 2
}
