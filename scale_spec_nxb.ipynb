{
 "cells": [
  {
   "cell_type": "markdown",
   "metadata": {},
   "source": [
    "extract ctr in log files to table"
   ]
  },
  {
   "cell_type": "code",
   "execution_count": null,
   "metadata": {
    "vscode": {
     "languageId": "shellscript"
    }
   },
   "outputs": [],
   "source": [
    "for x in 0 1 3\n",
    "do\n",
    "for j in 1 2 3\n",
    "do\n",
    "for i in 2 3\n",
    "do\n",
    "export root=ae805035010_xis${x}_annu_a22${i}_${j}_xis${x}\n",
    "xspec << EOT\n",
    "data ${root}.pha\n",
    "data 2 ${root}_nxb.pha\n",
    "res 1 ${root}.rmf\n",
    "res 2 ${root}.rmf\n",
    "ign **-**:**-9.\n",
    "ign **-**:12.-**\n",
    "log >logs/${root}_nxb.log\n",
    "sho rate\n",
    "log none\n",
    "EOT\n",
    "done\n",
    "done\n",
    "done\n",
    "\n",
    "for x in 0 1 3\n",
    "do\n",
    "for j in 1 2 3\n",
    "do\n",
    "for i in 3\n",
    "do\n",
    "export root=ae805035010_xis${x}_annu_A22${i}_${j}_xis${x}\n",
    "xspec << EOT\n",
    "data ${root}.pha\n",
    "data 2 ${root}_nxb.pha\n",
    "res 1 ${root}.rmf\n",
    "res 2 ${root}.rmf\n",
    "ign **-**:**-9.\n",
    "ign **-**:12.-**\n",
    "log >logs/${root}_nxb.log\n",
    "sho rate\n",
    "log none\n",
    "EOT\n",
    "done\n",
    "done\n",
    "done"
   ]
  },
  {
   "cell_type": "code",
   "execution_count": null,
   "metadata": {
    "vscode": {
     "languageId": "shellscript"
    }
   },
   "outputs": [],
   "source": [
    "cd logs/\n",
    "rm sum*log\n",
    "for x in 0 1 3\n",
    "do\n",
    "for f in *xis${x}*log\n",
    "do \n",
    "cat $f >> sum_xis${x}.log\n",
    "done\n",
    "done"
   ]
  },
  {
   "cell_type": "code",
   "execution_count": 13,
   "metadata": {},
   "outputs": [],
   "source": [
    "path = '/Users/eusracenorth/Documents/suzaku_A222-223/suzaku_data/spectras/spectras_230406'\n",
    "newf1 = open(f'{path}/scale_nxb.sh', 'w')\n",
    "\n",
    "for x in [0,1,3]:\n",
    "    file = f'{path}/logs/sum_xis{x}.log'\n",
    "    f = open(file)\n",
    "    lines= f.readlines()\n",
    "    ctr_lst = []\n",
    "    names = []\n",
    "    for line in lines:\n",
    "        if 'cts/s' in line:\n",
    "            ctr = line.split('+/-')[0].split('  ')[-1]\n",
    "            ctr_lst.append(ctr)\n",
    "        if '.pha' in line:\n",
    "            name  = line.split(':')[-1] \n",
    "            names.append(name)\n",
    "    newf = open(f'{path}/cal_nxb_ratio_xis{x}.csv', 'w')\n",
    "    newf.write('name,data_ctr,nxb_ctr,ratio=data/nxb\\n')\n",
    "    # print(names)\n",
    "    for i in range(int(len(names)/2)):\n",
    "        newf.write(f'{names[2*i].split()[0].split(\".\")[0]}, {ctr_lst[2*i]}, {ctr_lst[2*i+1]}, {float(ctr_lst[2*i])/float(ctr_lst[2*i+1])}\\n')\n",
    "        ratio = float(ctr_lst[2*i])/float(ctr_lst[2*i+1])\n",
    "        spec_names = names[2*i].split()[0].split(\".\")[0]\n",
    "        newf1.write(f\"mathpha expr='{spec_names}_nxb.pha*{ratio}' units=R outfil={spec_names}_nxb_scaled.pha exposure=82000 areascal=NULL clobber=yes ncomments=0\\n\")\n",
    "    newf.close()\n",
    "    f.close()\n",
    "newf1.close()"
   ]
  },
  {
   "cell_type": "markdown",
   "metadata": {},
   "source": [
    "group spectrums"
   ]
  },
  {
   "cell_type": "code",
   "execution_count": 7,
   "metadata": {},
   "outputs": [],
   "source": [
    "newf = open('/Users/eusracenorth/Documents/suzaku_A222-223/suzaku_data/spectras/spectras_230317/grp_spec.sh', 'w')\n",
    "for i in range(int(len(names)/2)):\n",
    "    spec_names = names[2*i].split()[0].split(\".\")[0]\n",
    "    newf.write(f\"ftgrouppha {spec_names}.pha {spec_names}_opt.pha opt respfile={spec_names}.rmf clobber=yes\\n\")\n",
    "\n",
    "newf.close()"
   ]
  },
  {
   "cell_type": "code",
   "execution_count": null,
   "metadata": {},
   "outputs": [],
   "source": [
    "newf = open('/Users/eusracenorth/Documents/suzaku_A222-223/suzaku_data/spectras_230317/grp_nxbspec.sh', 'w')\n",
    "\n",
    "for i in range(int(len(names)/2)):\n",
    "    spec_names = names[2*i].split()[0].split(\".\")[0]\n",
    "    newf.write(f\"ftgrouppha {spec_names}.pha {spec_names}_opt.pha opt respfile={spec_names}.rmf clobber=yes\\n\")\n",
    "\n",
    "newf.close()"
   ]
  }
 ],
 "metadata": {
  "kernelspec": {
   "display_name": "Python 3.10.1 64-bit ('3.10.1')",
   "language": "python",
   "name": "python3"
  },
  "language_info": {
   "codemirror_mode": {
    "name": "ipython",
    "version": 3
   },
   "file_extension": ".py",
   "mimetype": "text/x-python",
   "name": "python",
   "nbconvert_exporter": "python",
   "pygments_lexer": "ipython3",
   "version": "3.10.1"
  },
  "orig_nbformat": 4,
  "vscode": {
   "interpreter": {
    "hash": "1302458d99d58fefb56dc0fec08d039cf240bdcae78a53a9226b7c46b3832fa1"
   }
  }
 },
 "nbformat": 4,
 "nbformat_minor": 2
}
