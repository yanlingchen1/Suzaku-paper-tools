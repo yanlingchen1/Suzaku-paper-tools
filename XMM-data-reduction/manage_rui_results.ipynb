{
 "cells": [
  {
   "cell_type": "code",
   "execution_count": 2,
   "metadata": {},
   "outputs": [],
   "source": [
    "from astropy.io import fits\n",
    "import matplotlib.pyplot as plt\n",
    "import numpy as np\n"
   ]
  },
  {
   "cell_type": "markdown",
   "metadata": {},
   "source": [
    "check detection limit of XMM where for all fov area all the point sources are complete"
   ]
  },
  {
   "cell_type": "code",
   "execution_count": null,
   "metadata": {},
   "outputs": [],
   "source": [
    "path = '/Users/eusracenorth/Documents/suzaku_A222-223/xmm_data/rui'\n",
    "hdul = fits.open(f'{path}/snsmap_EP_01000_02000_ML6_trim.fits')\n",
    "dat = hdul[0].data\n",
    "hist,bin_edges = np.histogram(dat.flatten(),np.logspace(-16,-13,301))\n",
    "plt.plot(bin_edges[0:-1], np.cumsum(hist))\n",
    "plt.xscale('log')\n",
    "plt.axvline(5e-15)\n",
    "plt.show()"
   ]
  },
  {
   "cell_type": "markdown",
   "metadata": {},
   "source": [
    "# check fluxes of rui's results, compared with xmm cat"
   ]
  },
  {
   "cell_type": "markdown",
   "metadata": {},
   "source": [
    "read xmm cat data"
   ]
  },
  {
   "cell_type": "code",
   "execution_count": null,
   "metadata": {},
   "outputs": [],
   "source": [
    "\n",
    "workpath = '/Users/eusracenorth/Documents/suzaku_A222-223/xissim_test/v1223sgr/xmm_cat'\n",
    "data = pd.read_csv(f'{workpath}/NXSA-Results-1674083268512.csv')\n",
    "trans = []\n",
    "thres = 1e-13\n",
    "f = (np.array(data[\"EPIC_XMM_STACK_CAT.EP_5_FLUX\"] ) + np.array(data[\"EPIC_XMM_STACK_CAT.EP_4_FLUX\"] ) )\n",
    "# flux_err = (np.array(data[\"EPIC_XMM_STACK_CAT.EP_5_FLUX_ERR\"] ) **2+ np.array(data[\"EPIC_XMM_STACK_CAT.EP_4_FLUX_ERR\"] ) **2)**0.5\n",
    "for flux in f:\n",
    "    if flux<1e-14:\n",
    "        # trans.append(0.6/0.86) # for index 1\n",
    "        trans.append(1.158)\n",
    "    elif (flux>1e-14) & (flux<thres):\n",
    "        trans.append(1.158) # for index 1.4\n",
    "    else:\n",
    "        # trans.append(0.6/1.23) # for index 1.8\n",
    "        trans.append(1.158)\n",
    "        # trans.append(0.6)\n",
    "\n",
    "f = f*np.array(trans)\n",
    "# fhi = f+flux_err*np.array(trans)\n",
    "# flo = f-flux_err*np.array(trans)\n",
    "y, yerr = [],[]\n",
    "for bin1 in S_center:\n",
    "    y.append(np.sum(f>bin1))\n",
    "    yerr.append(np.sqrt(np.sum(f>bin1)))\n",
    "y = np.array(y)/((16.6**2)*3.14/3600); yerr = np.array(yerr)/((16.6**2)*3.14/3600)\n",
    "ax.step(S_center, y, color = cblind[1], label = 'XMM-Newton data')\n",
    "ax.fill_between(S_center, y-yerr, y+yerr, color = cblind[1], step='pre',alpha = 0.3, )"
   ]
  },
  {
   "cell_type": "markdown",
   "metadata": {},
   "source": [
    "read rui table and convert fits to reg"
   ]
  },
  {
   "cell_type": "code",
   "execution_count": null,
   "metadata": {},
   "outputs": [],
   "source": [
    "# path = '/Users/eusracenorth/Documents/suzaku_A222-223/xmm_data/rui'\n",
    "# hdul = fits.open(f'{path}/srclist_sum.fits')\n",
    "# # hdul.info()\n",
    "# dat= hdul[1].data\n",
    "# print(dat.columns)\n",
    "\n"
   ]
  },
  {
   "cell_type": "code",
   "execution_count": 16,
   "metadata": {},
   "outputs": [
    {
     "name": "stdout",
     "output_type": "stream",
     "text": [
      "131 3.9266815e-12 1.0447116e-12\n",
      "36 3.3576909e-12 6.88051e-13\n",
      "30 3.2419505e-12 6.449013e-13\n"
     ]
    },
    {
     "data": {
      "image/png": "[encoded data removed]",
      "text/plain": [
       "<Figure size 640x480 with 1 Axes>"
      ]
     },
     "metadata": {},
     "output_type": "display_data"
    }
   ],
   "source": [
    "path = '/Users/eusracenorth/Documents/suzaku_A222-223/xmm_data/rui'\n",
    "hdul = fits.open(f'{path}/srclist_sum_ex_extend_byeye.fits')\n",
    "data = hdul[1].data\n",
    "trans = 1/1.2\n",
    "# obses = ['0502020101', '0502020201']\n",
    "# for i, obs in enumerate(['0502020101', '0502020201']):\n",
    "# where_lst = [(data['OBS_ID']=='0502020101'), (data['OBS_ID']=='0502020201'), (data['OBS_ID']!='0502020101') & (data['OBS_ID']!='0502020201')]\n",
    "# labels = ['101', '201', 'stack']\n",
    "where_lst = [(data['OBS_ID']!='0502020101') & (data['OBS_ID']!='0502020201')]\n",
    "ex_radec = [(24.380,-12.990),(24.394,-12.993),(24.482,-12.820),(24.479,-12.796),(24.509,-12.754)]\n",
    "where1 =np.arange(len(data['OBS_ID']))\n",
    "idx1 = []\n",
    "for pos in ex_radec:\n",
    "    idx1+=list(where1[(abs(data['RA']-pos[0]) < 0.001) & (abs(data['DEC']-pos[1]) < 0.001)])\n",
    "labels = ['stack']\n",
    "for i, where in enumerate(where_lst):\n",
    "    # where[idx1] = False\n",
    "    flux = (np.array(data[\"EP_5_FLUX\"][where] ) + np.array(data[\"EP_4_FLUX\"][where] ) )* trans\n",
    "    flux_err = np.sqrt(np.array(data[\"EP_5_FLUX_ERR\"][where] )**2 + np.array(data[\"EP_4_FLUX_ERR\"][where] )**2 )* trans\n",
    "    f_PN = (np.array(data[\"PN_5_FLUX\"][where] ) + np.array(data[\"PN_4_FLUX\"][where] ) )* trans\n",
    "    f_MOS1 = (np.array(data[\"M1_5_FLUX\"][where] ) + np.array(data[\"M1_4_FLUX\"][where] ) )*trans\n",
    "    f_MOS2 = (np.array(data[\"M2_5_FLUX\"][where] ) + np.array(data[\"M2_4_FLUX\"][where] ) )*trans\n",
    "    f = flux\n",
    "    plt.hist(f, np.logspace(-16, -12, 30), alpha = 0.5, label = labels[i])\n",
    "plt.xscale('log')\n",
    "plt.yscale('log')\n",
    "plt.legend()\n",
    "print(len(f), np.sum(f[f>6e-15]), np.sum(flux_err[f>6e-15]))\n",
    "print(np.sum(f>1.8e-14), np.sum(f[f>1.8e-14]), np.sum(flux_err[f>1.8e-14]))\n",
    "print(np.sum(f>2e-14), np.sum(f[f>2e-14]), np.sum(flux_err[f>2e-14]))\n"
   ]
  },
  {
   "cell_type": "code",
   "execution_count": 15,
   "metadata": {},
   "outputs": [],
   "source": [
    "where = ((data['OBS_ID']!='0502020101') & (data['OBS_ID']!='0502020201'))\n",
    "savepath = '/Users/eusracenorth/Documents/suzaku_A222-223/suzaku_data/spectras/cxb_robust_test/regions_0406_set1'\n",
    "file = open(f'{savepath}/rui_srcs_ht2e-14.reg', 'w')\n",
    "file.write('fk5\\n')\n",
    "ra = data['RA'][where][f>2e-14]\n",
    "dec = data['DEC'][where][f>2e-14]\n",
    "for i in range(len(ra)):\n",
    "    file.write(f'circle({ra[i]},{dec[i]},80\\\")\\n')\n",
    "file.close()"
   ]
  },
  {
   "cell_type": "markdown",
   "metadata": {},
   "source": [
    "exclude some extended sources by eye"
   ]
  },
  {
   "cell_type": "markdown",
   "metadata": {},
   "source": []
  },
  {
   "cell_type": "code",
   "execution_count": null,
   "metadata": {},
   "outputs": [],
   "source": [
    "import os \n",
    "path = '/Users/eusracenorth/Documents/suzaku_A222-223/xmm_data/rui'\n",
    "os.chdir(path)\n",
    "os.system(f'cp srclist_sum.fits srclist_sum_ex_extend_byeye.fits ')\n",
    "exsrc = [(24.51, -12.75), (24.48,-12.82), (24.39,-12.99)]\n",
    "hdul = fits.open(f'{path}/srclist_sum_ex_extend_byeye.fits', 'update')\n",
    "dat= hdul[1].data\n",
    "for src in exsrc:\n",
    "    dat = dat[~((abs(dat['RA']-src[0])<0.01) & (abs(dat['DEC']-src[1])<0.01)) & (dat['OBS_ID']=='0502020101')]\n",
    "hdul.flush()\n"
   ]
  },
  {
   "cell_type": "code",
   "execution_count": null,
   "metadata": {},
   "outputs": [],
   "source": [
    "import os \n",
    "path = '/Users/eusracenorth/Documents/suzaku_A222-223/xmm_data/rui'\n",
    "os.chdir(path)\n",
    "hdul = fits.open(f'{path}/srclist_sum_ex_extend_byeye.fits', 'update')\n",
    "dat= hdul[1].data\n",
    "f = open(f'{path}/rui_srcs.reg', 'w')\n",
    "f.write('fk5\\n')\n",
    "for i in range(len(dat['RA'])):\n",
    "    f.write(f'circle({dat[\"RA\"][i]}, {dat[\"DEC\"][i]}, 30\")\\n')\n",
    "f.close()\n",
    "\n"
   ]
  },
  {
   "cell_type": "code",
   "execution_count": null,
   "metadata": {},
   "outputs": [],
   "source": [
    "f = open(f'{path}/rui_srcs.reg')\n",
    "hdul = fits.open(f'{path}/srclist_sum_ex_extend_byeye.fits', 'update')\n",
    "dat= hdul[1].data\n",
    "x_arr, y_arr, r_arr = [],[],[]\n",
    "lines = f.readlines()\n",
    "for line in lines:\n",
    "    x_arr.append(line.split('(')[-1].split(',')[0])\n",
    "    y_arr.append(line.split('(')[-1].split(',')[1])\n",
    "    r_arr.append('7.5')\n",
    "dat['X'] = x_arr\n",
    "dat['Y'] = y_arr\n",
    "dat['R'] = r_arr\n",
    "hdul[1].data = dat\n",
    "hdul.flush()"
   ]
  },
  {
   "cell_type": "markdown",
   "metadata": {},
   "source": [
    "manage my pointsrc flux from wavdetect"
   ]
  },
  {
   "cell_type": "code",
   "execution_count": null,
   "metadata": {},
   "outputs": [],
   "source": [
    "points = []\n",
    "xc,yc = 3984.9634, 4146.6652\n",
    "r2 = 5664.85124**2 # radius squared\n",
    "for x,y in zip(RA,DEC):\n",
    "    if (x-xc)**2 + (y-yc)**2 < r2:\n",
    "        points.append((x,y))"
   ]
  }
 ],
 "metadata": {
  "kernelspec": {
   "display_name": "Python 3.10.1 64-bit ('3.10.1')",
   "language": "python",
   "name": "python3"
  },
  "language_info": {
   "codemirror_mode": {
    "name": "ipython",
    "version": 3
   },
   "file_extension": ".py",
   "mimetype": "text/x-python",
   "name": "python",
   "nbconvert_exporter": "python",
   "pygments_lexer": "ipython3",
   "version": "3.10.1"
  },
  "orig_nbformat": 4,
  "vscode": {
   "interpreter": {
    "hash": "1302458d99d58fefb56dc0fec08d039cf240bdcae78a53a9226b7c46b3832fa1"
   }
  }
 },
 "nbformat": 4,
 "nbformat_minor": 2
}
